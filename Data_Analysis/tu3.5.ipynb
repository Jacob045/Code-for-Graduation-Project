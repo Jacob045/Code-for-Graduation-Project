{
 "cells": [
  {
   "cell_type": "code",
   "execution_count": 12,
   "metadata": {
    "collapsed": true
   },
   "outputs": [],
   "source": [
    "import numpy as np\n",
    "import pandas as pd\n",
    "import matplotlib.pyplot as plt\n",
    "\n",
    "from Extract_Inversion_Tem import extract_inversion_tem\n",
    "from Extract_Observation_Tem import extract_observation_tem"
   ]
  },
  {
   "cell_type": "code",
   "execution_count": 13,
   "outputs": [],
   "source": [
    "years = ['2009']\n",
    "i_tem = extract_inversion_tem(years)"
   ],
   "metadata": {
    "collapsed": false,
    "pycharm": {
     "name": "#%%\n"
    }
   }
  },
  {
   "cell_type": "code",
   "execution_count": 14,
   "outputs": [],
   "source": [
    "o_tem = extract_observation_tem(years)\n",
    "\n",
    "def trans_time(i):\n",
    "    if i[-2:] == '00':\n",
    "        m = '08'\n",
    "    elif i[-2:] == '12':\n",
    "        m = '20'\n",
    "    return i[:-2] + m\n",
    "o_tem.index = [trans_time(i) for i in o_tem.index]\n",
    "o_tem.columns = i_tem.columns"
   ],
   "metadata": {
    "collapsed": false,
    "pycharm": {
     "name": "#%%\n"
    }
   }
  },
  {
   "cell_type": "code",
   "execution_count": 15,
   "outputs": [
    {
     "name": "stdout",
     "output_type": "stream",
     "text": [
      "(730, 47)\n",
      "(641, 47)\n"
     ]
    }
   ],
   "source": [
    "print(o_tem.shape)\n",
    "print(i_tem.shape)"
   ],
   "metadata": {
    "collapsed": false,
    "pycharm": {
     "name": "#%%\n"
    }
   }
  },
  {
   "cell_type": "code",
   "execution_count": 16,
   "outputs": [],
   "source": [
    "for i in i_tem.index:\n",
    "    if i[-2:] == '08':\n",
    "        i_tem.drop(i, inplace=True)"
   ],
   "metadata": {
    "collapsed": false,
    "pycharm": {
     "name": "#%%\n"
    }
   }
  },
  {
   "cell_type": "code",
   "execution_count": 17,
   "outputs": [],
   "source": [
    "def MSE(y, t):\n",
    "    return np.sum((y - t)**2)**0.5\n",
    "\n",
    "def MSE1(x):\n",
    "    return  np.sum(x**2)/len(x)\n",
    "\n",
    "def MAE1(x):\n",
    "    return np.sum(np.abs(x))/len(x)"
   ],
   "metadata": {
    "collapsed": false,
    "pycharm": {
     "name": "#%%\n"
    }
   }
  },
  {
   "cell_type": "code",
   "execution_count": 18,
   "outputs": [],
   "source": [
    "data = pd.DataFrame(columns=i_tem.columns)\n",
    "\n",
    "for i in i_tem.index:\n",
    "    if i in o_tem.index:\n",
    "        # print(o_tem.loc[i])\n",
    "        # print(i_tem.loc[i])\n",
    "        # print(o_tem.loc[i] - i_tem.loc[i])\n",
    "        # print(MSE(o_tem.loc[i], i_tem.loc[i]))\n",
    "        data.loc[i] = o_tem.loc[i] - i_tem.loc[i]"
   ],
   "metadata": {
    "collapsed": false,
    "pycharm": {
     "name": "#%%\n"
    }
   }
  },
  {
   "cell_type": "code",
   "execution_count": 19,
   "outputs": [],
   "source": [
    "for i in data.columns:\n",
    "    # print(MSE1(data[i]).round(2), MAE1(data[i]).round(4))\n",
    "    data.loc['mse', i] = MSE1(data[i]).round(2)\n",
    "    data.loc['mae', i] = MAE1(data[i]).round(4)"
   ],
   "metadata": {
    "collapsed": false,
    "pycharm": {
     "name": "#%%\n"
    }
   }
  },
  {
   "cell_type": "code",
   "execution_count": 27,
   "outputs": [
    {
     "data": {
      "text/plain": "<Figure size 360x720 with 1 Axes>",
      "image/png": "[encoded data removed]"
     },
     "metadata": {
      "needs_background": "light"
     },
     "output_type": "display_data"
    }
   ],
   "source": [
    "\n",
    "plt.figure(figsize=(5,10))\n",
    "Height = data.columns[0:23]\n",
    "# plt.plot(data.loc['mse'][0:23], Height, label='mse')\n",
    "plt.plot(data.loc['mae'][0:23], Height, label='mae')\n",
    "plt.xlabel('Tem K')\n",
    "plt.ylabel('Altitude km')\n",
    "plt.legend()\n",
    "plt.grid()\n",
    "\n",
    "path = r'I:\\Data\\Personal_Data\\graduation_project\\Graduation_thesis\\Atlas\\Chapter3\\\\'\n",
    "plt.savefig(path+'tem_mae20.png', bbox_inches = 'tight')\n",
    "plt.show()"
   ],
   "metadata": {
    "collapsed": false,
    "pycharm": {
     "name": "#%%\n"
    }
   }
  },
  {
   "cell_type": "code",
   "execution_count": 25,
   "outputs": [
    {
     "data": {
      "text/plain": " 0.00    248.50\n 0.10    227.14\n 0.20    225.78\n 0.30    233.50\n 0.40    266.54\n 0.50    295.61\n 0.60    320.42\n 0.70    341.42\n 0.80    348.09\n 0.90    352.70\n 1.00    355.56\n 1.25    343.82\n 1.50    319.02\n 1.75    284.96\n 2.00    259.37\n 2.25    238.90\n 2.50    216.67\n 2.75    200.74\n 3.00    191.41\n 3.25    181.38\n 3.50    168.06\n 3.75    160.73\n 4.00    160.67\nName: mse, dtype: float64"
     },
     "execution_count": 25,
     "metadata": {},
     "output_type": "execute_result"
    }
   ],
   "source": [
    "data.loc['mse'][0:23]"
   ],
   "metadata": {
    "collapsed": false,
    "pycharm": {
     "name": "#%%\n"
    }
   }
  }
 ],
 "metadata": {
  "kernelspec": {
   "display_name": "Python 3",
   "language": "python",
   "name": "python3"
  },
  "language_info": {
   "codemirror_mode": {
    "name": "ipython",
    "version": 2
   },
   "file_extension": ".py",
   "mimetype": "text/x-python",
   "name": "python",
   "nbconvert_exporter": "python",
   "pygments_lexer": "ipython2",
   "version": "2.7.6"
  }
 },
 "nbformat": 4,
 "nbformat_minor": 0
}