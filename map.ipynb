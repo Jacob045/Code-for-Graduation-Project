{
 "cells": [
  {
   "cell_type": "code",
   "execution_count": 21,
   "metadata": {
    "collapsed": true,
    "pycharm": {
     "name": "#%%\n"
    }
   },
   "outputs": [
    {
     "name": "stdout",
     "output_type": "stream",
     "text": [
      "0.12.1\n"
     ]
    }
   ],
   "source": [
    "import folium\n",
    "print(folium.__version__)"
   ]
  },
  {
   "cell_type": "code",
   "execution_count": 22,
   "outputs": [],
   "source": [
    "yuzhong_map = folium.Map(\n",
    "    location=[35.91, 104.15],\n",
    "    zoom_start=15)"
   ],
   "metadata": {
    "collapsed": false,
    "pycharm": {
     "name": "#%%\n"
    }
   }
  },
  {
   "cell_type": "code",
   "execution_count": 23,
   "outputs": [
    {
     "ename": "SyntaxError",
     "evalue": "invalid syntax (<ipython-input-23-ddf93fab7a4b>, line 4)",
     "output_type": "error",
     "traceback": [
      "\u001B[1;36m  File \u001B[1;32m\"<ipython-input-23-ddf93fab7a4b>\"\u001B[1;36m, line \u001B[1;32m4\u001B[0m\n\u001B[1;33m    icon=folium.Icon(icon='cloud')\u001B[0m\n\u001B[1;37m       ^\u001B[0m\n\u001B[1;31mSyntaxError\u001B[0m\u001B[1;31m:\u001B[0m invalid syntax\n"
     ]
    }
   ],
   "source": [
    "yuzhongzhan = [35.87, 104.15]\n",
    "folium.Marker(location=yuzhongzhan,\n",
    "              popup='榆中气象站'\n",
    "              icon=folium.Icon(icon='cloud')\n",
    "              ).add_to(yuzhong_map)\n",
    "\n",
    "SOCAL = [35.95, 104.14]\n",
    "folium.Marker(location=SOCAL,\n",
    "              popup='SOCAL站'\n",
    "              icon=folium.Icon(icon='cloud')\n",
    "              ).add_to(yuzhong_map)\n",
    "\n",
    "folium.PolyLine(locations=[yuzhongzhan, SOCAL],\n",
    "                weights=1,\n",
    "                color='black'\n",
    "                ).add_to(yuzhong_map)\n",
    "\n",
    "yuzhong_map"
   ],
   "metadata": {
    "collapsed": false,
    "pycharm": {
     "name": "#%%\n"
    }
   }
  },
  {
   "cell_type": "code",
   "execution_count": null,
   "outputs": [],
   "source": [
    "yuzhong_map.save(r'J:/test.html')"
   ],
   "metadata": {
    "collapsed": false,
    "pycharm": {
     "name": "#%%\n"
    }
   }
  },
  {
   "cell_type": "code",
   "execution_count": 24,
   "outputs": [],
   "source": [
    "import math\n",
    "\n",
    "def getDistance(latA, lonA, latB, lonB):\n",
    "  ra = 6378140 # 赤道半径\n",
    "  rb = 6356755 # 极半径\n",
    "  flatten = (ra - rb) / ra # Partial rate of the earth\n",
    "  # change angle to radians\n",
    "  radLatA = math.radians(latA)\n",
    "  radLonA = math.radians(lonA)\n",
    "  radLatB = math.radians(latB)\n",
    "  radLonB = math.radians(lonB)\n",
    "\n",
    "  pA = math.atan(rb / ra * math.tan(radLatA))\n",
    "  pB = math.atan(rb / ra * math.tan(radLatB))\n",
    "  x = math.acos(math.sin(pA) * math.sin(pB) + math.cos(pA) * math.cos(pB) * math.cos(radLonA - radLonB))\n",
    "  c1 = (math.sin(x) - x) * (math.sin(pA) + math.sin(pB)) ** 2 / math.cos(x / 2) ** 2\n",
    "  c2 = (math.sin(x) + x) * (math.sin(pA) - math.sin(pB)) ** 2 / math.sin(x / 2) ** 2\n",
    "  dr = flatten / 8 * (c1 - c2)\n",
    "  distance = ra * (x + dr)\n",
    "  distance = round(distance / 1000, 4)\n",
    "  return f'{distance}km'"
   ],
   "metadata": {
    "collapsed": false,
    "pycharm": {
     "name": "#%%\n"
    }
   }
  },
  {
   "cell_type": "code",
   "execution_count": 25,
   "outputs": [
    {
     "data": {
      "text/plain": "'8.9224km'"
     },
     "execution_count": 25,
     "metadata": {},
     "output_type": "execute_result"
    }
   ],
   "source": [
    "getDistance(yuzhongzhan[0], yuzhongzhan[1], SOCAL[0], SOCAL[1])"
   ],
   "metadata": {
    "collapsed": false,
    "pycharm": {
     "name": "#%%\n"
    }
   }
  }
 ],
 "metadata": {
  "kernelspec": {
   "display_name": "Python 3",
   "language": "python",
   "name": "python3"
  },
  "language_info": {
   "codemirror_mode": {
    "name": "ipython",
    "version": 2
   },
   "file_extension": ".py",
   "mimetype": "text/x-python",
   "name": "python",
   "nbconvert_exporter": "python",
   "pygments_lexer": "ipython2",
   "version": "2.7.6"
  }
 },
 "nbformat": 4,
 "nbformat_minor": 0
}