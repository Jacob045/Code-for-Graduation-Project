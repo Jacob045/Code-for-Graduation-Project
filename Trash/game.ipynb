{
 "cells": [
  {
   "cell_type": "code",
   "execution_count": 69,
   "metadata": {
    "collapsed": true
   },
   "outputs": [],
   "source": [
    "import random"
   ]
  },
  {
   "cell_type": "code",
   "execution_count": 70,
   "outputs": [],
   "source": [
    "player_num = 10\n",
    "player_list = []"
   ],
   "metadata": {
    "collapsed": false,
    "pycharm": {
     "name": "#%%\n"
    }
   }
  },
  {
   "cell_type": "code",
   "execution_count": 83,
   "outputs": [],
   "source": [
    "# 生成游戏玩家\n",
    "for i in range(player_num):\n",
    "    player_list.append(str(i+1))\n",
    "random.shuffle(player_list)\n",
    "player_dict = {i:0 for i in player_list}\n",
    "\n",
    "# 确定游戏玩家身份\n",
    "i = 0\n",
    "for key,value in player_dict.items():\n",
    "    if i<4:\n",
    "        if not(bool(i)):\n",
    "            player_dict[key] = 2\n",
    "        else :\n",
    "            player_dict[key] = 1\n",
    "        i += 1"
   ],
   "metadata": {
    "collapsed": false,
    "pycharm": {
     "name": "#%%\n"
    }
   }
  },
  {
   "cell_type": "code",
   "execution_count": 100,
   "outputs": [
    {
     "name": "stdout",
     "output_type": "stream",
     "text": [
      "您的身份是 ——— 线人\n"
     ]
    }
   ],
   "source": [
    "# 用户确认自己的身份\n",
    "def show_identity(i):\n",
    "    x = player_dict[str(i)]\n",
    "    if x==2:\n",
    "        identity = 'W'\n",
    "    elif x == 1:\n",
    "        identity = '线人'\n",
    "    else:\n",
    "        identity = '专家'\n",
    "    print(f'您的身份是 ——— {identity}')\n",
    "\n",
    "xuhao = input()\n",
    "if int(xuhao) <= 10:\n",
    "    show_identity(xuhao)\n",
    "else:\n",
    "    print('请输入正确序号')"
   ],
   "metadata": {
    "collapsed": false,
    "pycharm": {
     "name": "#%%\n"
    }
   }
  },
  {
   "cell_type": "code",
   "execution_count": null,
   "outputs": [],
   "source": [
    "# 如何确定各组宝物的真伪\n",
    "# 假如这是一个线下的游戏，必须要有一个上帝\n",
    "# 其他玩家不知道选择的宝物的号码\n",
    "# 有一个真真假假的号码牌。各种号码排都是三个\n",
    "# 采取睁眼闭眼的方式\n",
    "\n",
    "#"
   ],
   "metadata": {
    "collapsed": false,
    "pycharm": {
     "name": "#%%\n"
    }
   }
  },
  {
   "cell_type": "markdown",
   "source": [
    "### 开始宝物鉴定环节\n",
    "1. 先出现第一组宝物(真：；假：)\n",
    "用一副扑克完成游戏\n",
    "红色为真，黑色为假\n",
    "每轮宝物验证采取其他玩家闭眼的形式进行宝物验证\n",
    "首先是鉴宝师睁眼，然后是鉴宝助理睁眼\n",
    "最后是全体玩家睁眼，确认最后保留下来的宝物的真伪\n",
    "\n",
    "当轮游戏最后保留赝品，当轮鉴宝师拥有一次查验身份的机会\n",
    "全场游戏最多只能完成三次查验\n",
    "三次之后，当轮鉴宝师的权力转变为指定玩家离场，\n",
    "如果被指定玩家为W，那么游戏立即结束，专家阵营胜利\n",
    "\n",
    "游戏输赢判定：\n",
    "十人游戏中，\n",
    "保留5件真品，专家方胜利\n",
    "保留6件赝品，W及线人方胜利\n",
    "\n",
    "三轮宝物共计30件宝物\n",
    "\n",
    "我记得是第一轮结束之后剩下了两件宝物，\n",
    "10  \n",
    "而第二轮结束之后没有剩下宝物，\n",
    "12=3+9\n",
    "直接进入第三轮\n",
    "8=2+6\n",
    "如何排布宝物，\n",
    "\n",
    "\n",
    "\n"
   ],
   "metadata": {
    "collapsed": false
   }
  }
 ],
 "metadata": {
  "kernelspec": {
   "display_name": "Python 3",
   "language": "python",
   "name": "python3"
  },
  "language_info": {
   "codemirror_mode": {
    "name": "ipython",
    "version": 2
   },
   "file_extension": ".py",
   "mimetype": "text/x-python",
   "name": "python",
   "nbconvert_exporter": "python",
   "pygments_lexer": "ipython2",
   "version": "2.7.6"
  }
 },
 "nbformat": 4,
 "nbformat_minor": 0
}