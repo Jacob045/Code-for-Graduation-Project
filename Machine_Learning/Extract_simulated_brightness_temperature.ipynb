{
 "cells": [
  {
   "cell_type": "code",
   "execution_count": 2,
   "metadata": {
    "collapsed": true
   },
   "outputs": [],
   "source": [
    "import pandas as pd\n",
    "import os"
   ]
  },
  {
   "cell_type": "code",
   "execution_count": 3,
   "outputs": [],
   "source": [
    "Dir_path = r'E:\\test\\test'\n",
    "Files_paths = []\n",
    "for root,dirs,files in os.walk(Dir_path):\n",
    "    for file in files:\n",
    "        Files_paths.append(os.path.join(root,file))"
   ],
   "metadata": {
    "collapsed": false,
    "pycharm": {
     "name": "#%%\n"
    }
   }
  },
  {
   "cell_type": "code",
   "execution_count": 17,
   "outputs": [
    {
     "data": {
      "text/plain": "2007010100"
     },
     "execution_count": 17,
     "metadata": {},
     "output_type": "execute_result"
    }
   ],
   "source": [
    "Cols = ['22.235', '23.035', '23.835', '26.235', '30.000', '51.250',\n",
    "       '52.280', '53.850', '54.940', '56.660', '57.290', '58.800']\n",
    "data = pd.DataFrame(columns=Cols)\n",
    "Files_path = Files_paths[0]\n",
    "\n",
    "for Files_path in Files_paths:\n",
    "    dat_file = pd.read_csv(Files_path, sep='\\s+', index_col='Time')\n",
    "    data = data.append(dat_file)"
   ],
   "metadata": {
    "collapsed": false,
    "pycharm": {
     "name": "#%%\n"
    }
   }
  }
 ],
 "metadata": {
  "kernelspec": {
   "display_name": "Python 3",
   "language": "python",
   "name": "python3"
  },
  "language_info": {
   "codemirror_mode": {
    "name": "ipython",
    "version": 2
   },
   "file_extension": ".py",
   "mimetype": "text/x-python",
   "name": "python",
   "nbconvert_exporter": "python",
   "pygments_lexer": "ipython2",
   "version": "2.7.6"
  }
 },
 "nbformat": 4,
 "nbformat_minor": 0
}