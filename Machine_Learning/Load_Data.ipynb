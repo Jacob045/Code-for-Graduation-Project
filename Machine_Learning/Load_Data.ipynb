{
 "cells": [
  {
   "cell_type": "code",
   "execution_count": 1,
   "metadata": {
    "collapsed": true
   },
   "outputs": [],
   "source": [
    "import pandas as pd"
   ]
  },
  {
   "cell_type": "code",
   "execution_count": 32,
   "outputs": [],
   "source": [
    "merge_1 = pd.DataFrame()\n",
    "Years = ['2007', '2009', '2010']\n",
    "Times =['08', '20']\n",
    "Path = r'I:\\Data\\Personal_Data\\graduation_project\\Code\\Machine_Learning\\Basic_Data\\\\'\n",
    "for Time in Times:\n",
    "    for Year in Years:\n",
    "        lv1 = pd.read_csv(\n",
    "            Path + Year + '_lv1_' + Time + '.csv',\n",
    "            index_col='Unnamed: 0')\n",
    "        Temperature = pd.read_csv(\n",
    "            Path + Year + '_Temperature_' + Time + '.csv',\n",
    "            index_col='Unnamed: 0')\n",
    "        # 横向合并\n",
    "        merge_0 = pd.merge(lv1, Temperature, on=lv1.index).set_index(['key_0'])\n",
    "        # 修改index\n",
    "        merge_0.index = [i+':'+Time for i in merge_0.index]\n",
    "        # 合并到merge_1，纵向合并\n",
    "        merge_1 = merge_1.append(merge_0)"
   ],
   "metadata": {
    "collapsed": false,
    "pycharm": {
     "name": "#%%\n"
    }
   }
  },
  {
   "cell_type": "code",
   "execution_count": null,
   "outputs": [],
   "source": [],
   "metadata": {
    "collapsed": false,
    "pycharm": {
     "name": "#%%\n"
    }
   }
  }
 ],
 "metadata": {
  "kernelspec": {
   "display_name": "Python 3",
   "language": "python",
   "name": "python3"
  },
  "language_info": {
   "codemirror_mode": {
    "name": "ipython",
    "version": 2
   },
   "file_extension": ".py",
   "mimetype": "text/x-python",
   "name": "python",
   "nbconvert_exporter": "python",
   "pygments_lexer": "ipython2",
   "version": "2.7.6"
  }
 },
 "nbformat": 4,
 "nbformat_minor": 0
}