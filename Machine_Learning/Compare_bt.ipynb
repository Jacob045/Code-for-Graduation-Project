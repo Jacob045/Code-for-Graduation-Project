{
 "cells": [
  {
   "cell_type": "code",
   "execution_count": 1,
   "metadata": {
    "collapsed": true
   },
   "outputs": [],
   "source": [
    "import pandas as pd\n",
    "\n",
    "from  Extract_Observation_bt import extract_observation_bt\n",
    "from Extract_Simulated_bt import extract_simulated_bt\n",
    "\n",
    "import matplotlib.pyplot as plt"
   ]
  },
  {
   "cell_type": "code",
   "execution_count": 2,
   "outputs": [],
   "source": [
    "# 模拟亮温\n",
    "Simulated_bt = extract_simulated_bt()\n",
    "# 日期格式转换\n",
    "def date1(i):\n",
    "    i1 = str(i)\n",
    "    if(i1[8:10] == '00'):\n",
    "        ti = '08'\n",
    "    elif(i1[8:10] == '12'):\n",
    "        ti = '20'\n",
    "    return i1[0:4]+'/'+i1[4:6]+'/'+i1[6:8]+':'+ti\n",
    "Simulated_bt.index = [date1(i) for i in Simulated_bt.index]"
   ],
   "metadata": {
    "collapsed": false,
    "pycharm": {
     "name": "#%%\n"
    }
   }
  },
  {
   "cell_type": "code",
   "execution_count": 3,
   "outputs": [],
   "source": [
    "#观测亮温\n",
    "Years = ['2007']\n",
    "Observation_bt = extract_observation_bt(Years)\n",
    "Observation_bt.dropna(inplace=True)\n",
    "Observation_bt.drop(Observation_bt.columns[:9], inplace=True, axis=1)\n",
    "Observation_bt.drop(Observation_bt.columns[12:], inplace=True, axis=1)\n"
   ],
   "metadata": {
    "collapsed": false,
    "pycharm": {
     "name": "#%%\n"
    }
   }
  },
  {
   "cell_type": "code",
   "execution_count": 27,
   "outputs": [],
   "source": [
    "ave = pd.DataFrame(columns=Observation_bt.columns)\n",
    "r = pd.DataFrame(columns=Observation_bt.columns)\n",
    "flag = 0\n",
    "for i in Observation_bt.index:\n",
    "    r.loc['OBS'] = Observation_bt.loc[i].values\n",
    "    r.loc['SIM'] = Simulated_bt.loc[i].values\n",
    "    # ave.loc[i,] = (Observation_bt.loc[i].values - Simulated_bt.loc[i].values).round(2)\n",
    "    flag += 1\n",
    "    if(flag == 7):\n",
    "        break"
   ],
   "metadata": {
    "collapsed": false,
    "pycharm": {
     "name": "#%%\n"
    }
   }
  },
  {
   "cell_type": "code",
   "execution_count": 19,
   "outputs": [
    {
     "data": {
      "text/plain": "0.7734907551185882"
     },
     "execution_count": 19,
     "metadata": {},
     "output_type": "execute_result"
    }
   ],
   "source": [
    "r.loc['OBS'].corr(r.loc['SIM'])"
   ],
   "metadata": {
    "collapsed": false,
    "pycharm": {
     "name": "#%%\n"
    }
   }
  }
 ],
 "metadata": {
  "kernelspec": {
   "display_name": "Python 3",
   "language": "python",
   "name": "python3"
  },
  "language_info": {
   "codemirror_mode": {
    "name": "ipython",
    "version": 2
   },
   "file_extension": ".py",
   "mimetype": "text/x-python",
   "name": "python",
   "nbconvert_exporter": "python",
   "pygments_lexer": "ipython2",
   "version": "2.7.6"
  }
 },
 "nbformat": 4,
 "nbformat_minor": 0
}