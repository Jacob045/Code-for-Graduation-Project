{
 "cells": [
  {
   "cell_type": "code",
   "execution_count": 31,
   "metadata": {
    "collapsed": true
   },
   "outputs": [],
   "source": [
    "import tensorflow as tf\n",
    "from Extract_Observation_bt import extract_observation_bt\n",
    "from Extract_Simulated_bt import extract_simulated_bt\n",
    "from Extract_Observation_Tem import extract_observation_tem"
   ]
  },
  {
   "cell_type": "code",
   "execution_count": 51,
   "outputs": [
    {
     "name": "stdout",
     "output_type": "stream",
     "text": [
      "Model: \"sequential_1\"\n",
      "_________________________________________________________________\n",
      "Layer (type)                 Output Shape              Param #   \n",
      "=================================================================\n",
      "dense_3 (Dense)              (None, 12)                156       \n",
      "_________________________________________________________________\n",
      "dense_4 (Dense)              (None, 47)                611       \n",
      "_________________________________________________________________\n",
      "dense_5 (Dense)              (None, 12)                576       \n",
      "=================================================================\n",
      "Total params: 1,343\n",
      "Trainable params: 1,343\n",
      "Non-trainable params: 0\n",
      "_________________________________________________________________\n"
     ]
    }
   ],
   "source": [
    "# 加载神经网路模型\n",
    "model_path = r'I:\\Data\\Personal_Data\\graduation_project\\Code\\Machine_Learning\\model'\n",
    "model = tf.keras.models.load_model(model_path)\n",
    "model.summary()"
   ],
   "metadata": {
    "collapsed": false,
    "pycharm": {
     "name": "#%%\n"
    }
   }
  },
  {
   "cell_type": "code",
   "execution_count": null,
   "outputs": [],
   "source": [],
   "metadata": {
    "collapsed": false,
    "pycharm": {
     "name": "#%%\n"
    }
   }
  },
  {
   "cell_type": "code",
   "execution_count": 56,
   "outputs": [],
   "source": [
    "# 加载观测亮温数据 并进入神经网络\n",
    "years = ['2007']\n",
    "o_bt = extract_observation_bt(years)\n",
    "o_bt.drop(o_bt.columns[:9], axis=1, inplace=True)\n",
    "o_bt.drop(o_bt.columns[12:], axis=1, inplace=True)\n",
    "o_bt.dropna(inplace=True)"
   ],
   "metadata": {
    "collapsed": false,
    "pycharm": {
     "name": "#%%\n"
    }
   }
  },
  {
   "cell_type": "code",
   "execution_count": 7,
   "outputs": [],
   "source": [
    "# 模拟亮温数据进入神经网络\n",
    "s_bt = extract_simulated_bt(years)\n",
    "\n",
    "# 将模拟亮温的00和12修改为08和20\n",
    "def trans_time(i):\n",
    "    if i[-2:] == '00':\n",
    "        m = '08'\n",
    "    elif i[-2:] == '12':\n",
    "        m = '20'\n",
    "    return i[:-2] + m\n",
    "s_bt.index = [trans_time(i) for i in s_bt.index]"
   ],
   "metadata": {
    "collapsed": false,
    "pycharm": {
     "name": "#%%\n"
    }
   }
  },
  {
   "cell_type": "code",
   "execution_count": 70,
   "outputs": [],
   "source": [
    "# 加载微波辐射计自带神经网路反演得到气象数据\n",
    "i_tem = extract_observation_bt(years)\n",
    "i_tem.drop(i_tem.columns[:21], axis=1, inplace=True)\n",
    "i_tem.dropna(inplace=True)"
   ],
   "metadata": {
    "collapsed": false,
    "pycharm": {
     "name": "#%%\n"
    }
   }
  },
  {
   "cell_type": "code",
   "execution_count": 45,
   "outputs": [],
   "source": [
    "# 加载榆中站探测数据\n",
    "o_tem = extract_observation_tem(years)\n",
    "\n",
    "# 转换海拔高度格式\n",
    "o_tem.columns = i_tem.columns\n"
   ],
   "metadata": {
    "collapsed": false,
    "pycharm": {
     "name": "#%%\n"
    }
   }
  },
  {
   "cell_type": "code",
   "execution_count": 73,
   "outputs": [
    {
     "name": "stdout",
     "output_type": "stream",
     "text": [
      "o_bt shape is (378, 12)\n",
      "s_bt shape is (723, 12)\n",
      "o_tem shape is (723, 47)\n",
      "i_tem shape is (708, 47)\n"
     ]
    }
   ],
   "source": [
    "print(f'o_bt shape is {o_bt.shape}')\n",
    "print(f's_bt shape is {s_bt.shape}')\n",
    "print(f'o_tem shape is {o_tem.shape}')\n",
    "print(f'i_tem shape is {i_tem.shape}')"
   ],
   "metadata": {
    "collapsed": false,
    "pycharm": {
     "name": "#%%\n"
    }
   }
  }
 ],
 "metadata": {
  "kernelspec": {
   "display_name": "Python 3",
   "language": "python",
   "name": "python3"
  },
  "language_info": {
   "codemirror_mode": {
    "name": "ipython",
    "version": 2
   },
   "file_extension": ".py",
   "mimetype": "text/x-python",
   "name": "python",
   "nbconvert_exporter": "python",
   "pygments_lexer": "ipython2",
   "version": "2.7.6"
  }
 },
 "nbformat": 4,
 "nbformat_minor": 0
}