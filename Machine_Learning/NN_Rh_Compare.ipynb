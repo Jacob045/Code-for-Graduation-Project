{
 "cells": [
  {
   "cell_type": "code",
   "execution_count": 1,
   "metadata": {
    "collapsed": true
   },
   "outputs": [],
   "source": [
    "import tensorflow as tf\n",
    "import matplotlib.pyplot as plt\n",
    "import pandas as pd\n",
    "import numpy as np\n",
    "import random\n",
    "\n",
    "from Extract_Observation_bt import extract_observation_bt\n",
    "from Extract_Simulated_bt import extract_simulated_bt\n",
    "from Extract_Observation_Rh import extract_observation_rh\n",
    "from Extract_Inversion_Rh import extract_inversion_rh"
   ]
  },
  {
   "cell_type": "code",
   "execution_count": 2,
   "outputs": [
    {
     "name": "stdout",
     "output_type": "stream",
     "text": [
      "Model: \"sequential\"\n",
      "_________________________________________________________________\n",
      "Layer (type)                 Output Shape              Param #   \n",
      "=================================================================\n",
      "dense (Dense)                (None, 5)                 30        \n",
      "_________________________________________________________________\n",
      "dense_1 (Dense)              (None, 10)                60        \n",
      "_________________________________________________________________\n",
      "dense_2 (Dense)              (None, 47)                517       \n",
      "=================================================================\n",
      "Total params: 607\n",
      "Trainable params: 607\n",
      "Non-trainable params: 0\n",
      "_________________________________________________________________\n"
     ]
    }
   ],
   "source": [
    "\n",
    "# 加载神经网路模型\n",
    "model_path = r'I:\\Data\\Personal_Data\\graduation_project\\Code\\Machine_Learning\\model_Rh'\n",
    "model = tf.keras.models.load_model(model_path)\n",
    "model.summary()"
   ],
   "metadata": {
    "collapsed": false,
    "pycharm": {
     "name": "#%%\n"
    }
   }
  },
  {
   "cell_type": "code",
   "execution_count": 3,
   "outputs": [],
   "source": [
    "# 将模拟亮温的00和12修改为08和20\n",
    "def trans_time(i):\n",
    "    if i[-2:] == '00':\n",
    "        m = '08'\n",
    "    elif i[-2:] == '12':\n",
    "        m = '20'\n",
    "    return i[:-2] + m"
   ],
   "metadata": {
    "collapsed": false,
    "pycharm": {
     "name": "#%%\n"
    }
   }
  },
  {
   "cell_type": "code",
   "execution_count": 4,
   "outputs": [],
   "source": [
    "years = ['2007']\n",
    "\n",
    "# 加载观测亮温，载入模型\n",
    "o_bt = extract_observation_bt(years)\n",
    "\n",
    "o_bt.drop(o_bt.columns[:9], axis=1, inplace=True)\n",
    "o_bt.drop(o_bt.columns[5:], axis=1, inplace=True)"
   ],
   "metadata": {
    "collapsed": false,
    "pycharm": {
     "name": "#%%\n"
    }
   }
  },
  {
   "cell_type": "code",
   "execution_count": 5,
   "outputs": [],
   "source": [
    "# 归一化\n",
    "def norm(x):\n",
    "    return (x - x.describe().transpose()['mean']) / x.describe().transpose()['std']\n",
    "o_bt = norm(o_bt)"
   ],
   "metadata": {
    "collapsed": false,
    "pycharm": {
     "name": "#%%\n"
    }
   }
  },
  {
   "cell_type": "code",
   "execution_count": 6,
   "outputs": [],
   "source": [
    "# 加载模拟亮温，载入模型\n",
    "s_bt = extract_simulated_bt(years)\n",
    "s_bt.drop(s_bt.columns[5:], axis=1, inplace=True)\n",
    "s_bt = norm(s_bt).round(3)\n",
    "s_bt.index = [trans_time(i) for i in s_bt.index]"
   ],
   "metadata": {
    "collapsed": false,
    "pycharm": {
     "name": "#%%\n"
    }
   }
  },
  {
   "cell_type": "code",
   "execution_count": 7,
   "outputs": [],
   "source": [
    "# 加载榆中站观测数据\n",
    "o_rh = extract_observation_rh(years)\n",
    "o_rh.columns = [str((int(i)-1965)/1000) for i in o_rh.columns]\n",
    "o_rh = o_rh.round(3)\n",
    "o_rh = o_rh*100\n",
    "o_rh.index = [trans_time(i) for i in o_rh.index]"
   ],
   "metadata": {
    "collapsed": false,
    "pycharm": {
     "name": "#%%\n"
    }
   }
  },
  {
   "cell_type": "code",
   "execution_count": 8,
   "outputs": [],
   "source": [
    "# 加载微波辐射计反演数据\n",
    "i_rh = extract_inversion_rh(years)\n",
    "# i_rh = pd.to_numeric(i_rh)"
   ],
   "metadata": {
    "collapsed": false,
    "pycharm": {
     "name": "#%%\n"
    }
   }
  },
  {
   "cell_type": "code",
   "execution_count": 9,
   "outputs": [
    {
     "name": "stdout",
     "output_type": "stream",
     "text": [
      "o_bt shape is (730, 5)\n",
      "s_bt shape is (723, 5)\n",
      "o_rh shape is (631, 47)\n",
      "i_rh shape is (377, 47)\n"
     ]
    }
   ],
   "source": [
    "print(f'o_bt shape is {o_bt.shape}')\n",
    "print(f's_bt shape is {s_bt.shape}')\n",
    "print(f'o_rh shape is {o_rh.shape}')\n",
    "print(f'i_rh shape is {i_rh.shape}')"
   ],
   "metadata": {
    "collapsed": false,
    "pycharm": {
     "name": "#%%\n"
    }
   }
  },
  {
   "cell_type": "code",
   "execution_count": 10,
   "outputs": [],
   "source": [
    "def Cross_validation(x1, x2):\n",
    "    for i in x1.index:\n",
    "        if i not in x2.index:\n",
    "            x1.drop(i, inplace=True)\n",
    "    for i in x2.index:\n",
    "        if i not in x1.index:\n",
    "            x2.drop(i, inplace=True)"
   ],
   "metadata": {
    "collapsed": false,
    "pycharm": {
     "name": "#%%\n"
    }
   }
  },
  {
   "cell_type": "code",
   "execution_count": 11,
   "outputs": [],
   "source": [
    "Cross_validation(o_rh, i_rh)"
   ],
   "metadata": {
    "collapsed": false,
    "pycharm": {
     "name": "#%%\n"
    }
   }
  },
  {
   "cell_type": "code",
   "execution_count": 12,
   "outputs": [],
   "source": [
    "o_bt = o_bt.loc[i_rh.index]\n",
    "o_bt = norm(o_bt)\n",
    "\n",
    "s_bt = s_bt.loc[i_rh.index]\n",
    "s_bt = norm(s_bt)\n",
    "\n",
    "o_rh = o_rh.loc[i_rh.index]"
   ],
   "metadata": {
    "collapsed": false,
    "pycharm": {
     "name": "#%%\n"
    }
   }
  },
  {
   "cell_type": "code",
   "execution_count": 13,
   "outputs": [
    {
     "name": "stdout",
     "output_type": "stream",
     "text": [
      "o_bt shape is (329, 5)\n",
      "s_bt shape is (329, 5)\n",
      "o_rh shape is (329, 47)\n",
      "i_rh shape is (329, 47)\n"
     ]
    }
   ],
   "source": [
    "print(f'o_bt shape is {o_bt.shape}')\n",
    "print(f's_bt shape is {s_bt.shape}')\n",
    "print(f'o_rh shape is {o_rh.shape}')\n",
    "print(f'i_rh shape is {i_rh.shape}')"
   ],
   "metadata": {
    "collapsed": false,
    "pycharm": {
     "name": "#%%\n"
    }
   }
  },
  {
   "cell_type": "code",
   "execution_count": 14,
   "outputs": [],
   "source": [
    "cols = ['o_bt o_rh', 's_bt o_rh', 'i_rh o_rh']\n",
    "cc = pd.DataFrame(columns=cols)\n",
    "\n",
    "def draw(i):\n",
    "    # Height = i_rh.columns\n",
    "    # plt.figure(figsize=(5,10))\n",
    "    X1 = model.predict(pd.DataFrame(o_bt.loc[i]).T).T\n",
    "    X2 = model.predict(pd.DataFrame(s_bt.loc[i]).T).T\n",
    "    X3 = pd.to_numeric(i_rh.loc[i]).T\n",
    "\n",
    "    # plt.plot(X1, Height, label='o_bt', linestyle=':')\n",
    "    # plt.plot(X2, Height, label='s_bt', linestyle='-')\n",
    "    # plt.plot(o_rh.loc[i], Height, label='o_rh', linestyle='dashdot')\n",
    "    # plt.plot(i_rh.loc[i], Height, label='i_rh', linestyle='dotted')\n",
    "    #\n",
    "    # plt.legend()\n",
    "    # plt.grid()\n",
    "    # plt.xlabel('Rh %')\n",
    "    # plt.ylabel('Altitude km')\n",
    "    # plt.title(i)\n",
    "    # path = r'I:\\Data\\Personal_Data\\graduation_project\\Graduation_thesis\\Atlas\\Chapter6\\Rh\\\\'\n",
    "    # plt.savefig(path+i.replace('/', '').replace(':', '')+'.png',\n",
    "    #             bbox_inches = 'tight')\n",
    "    # plt.show()\n",
    "\n",
    "    # print(f'o_bt 和 o_rh 相关系数为{np.corrcoef(X1.T, o_rh.loc[i].T)[0, 1].round(4)}')\n",
    "    # print(f's_bt 和 o_rh 相关系数为{np.corrcoef(X2.T, o_rh.loc[i].T)[0, 1].round(4)}')\n",
    "    # print(f'i_rh 和 o_rh 相关系数为{np.corrcoef(X3, o_rh.loc[i].T)[0, 1].round(4)}')\n",
    "\n",
    "    cc.loc[i] = [np.corrcoef(X1.T, o_rh.loc[i].T)[0, 1].round(4),\n",
    "                 np.corrcoef(X2.T, o_rh.loc[i].T)[0, 1].round(4),\n",
    "                 np.corrcoef(X3, o_rh.loc[i].T)[0, 1].round(4)]\n",
    "\n",
    "# i = i_rh.index[random.randrange(0, i_rh.shape[0])]\n",
    "for i in i_rh.index:\n",
    "    if (i in s_bt.index)and(i in o_rh.index)and(i in o_bt.index):\n",
    "        # print(i)\n",
    "        draw(i)"
   ],
   "metadata": {
    "collapsed": false,
    "pycharm": {
     "name": "#%%\n"
    }
   }
  },
  {
   "cell_type": "code",
   "execution_count": 20,
   "outputs": [
    {
     "name": "stdout",
     "output_type": "stream",
     "text": [
      "o_bt o_rh    0.1120\n",
      "s_bt o_rh    0.4876\n",
      "i_rh o_rh    0.4785\n",
      "dtype: float64\n",
      "(329, 3)\n",
      "Index(['o_bt o_rh', 's_bt o_rh', 'i_rh o_rh'], dtype='object')\n",
      "161\n"
     ]
    }
   ],
   "source": [
    "print(cc.mean().round(4))\n",
    "print(cc.shape)\n",
    "print(cc.columns)\n",
    "print((cc['s_bt o_rh']>cc['i_rh o_rh']).sum())"
   ],
   "metadata": {
    "collapsed": false,
    "pycharm": {
     "name": "#%%\n"
    }
   }
  }
 ],
 "metadata": {
  "kernelspec": {
   "display_name": "Python 3",
   "language": "python",
   "name": "python3"
  },
  "language_info": {
   "codemirror_mode": {
    "name": "ipython",
    "version": 2
   },
   "file_extension": ".py",
   "mimetype": "text/x-python",
   "name": "python",
   "nbconvert_exporter": "python",
   "pygments_lexer": "ipython2",
   "version": "2.7.6"
  }
 },
 "nbformat": 4,
 "nbformat_minor": 0
}