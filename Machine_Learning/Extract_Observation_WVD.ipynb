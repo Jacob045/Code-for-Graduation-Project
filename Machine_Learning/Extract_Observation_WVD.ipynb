{
 "cells": [
  {
   "cell_type": "code",
   "execution_count": null,
   "metadata": {
    "collapsed": true
   },
   "outputs": [],
   "source": [
    "import numpy as np\n",
    "import pandas as pd\n",
    "import os"
   ]
  },
  {
   "cell_type": "code",
   "execution_count": null,
   "outputs": [],
   "source": [
    "def cal_rh(T, Td):\n",
    "    a = 17.27\n",
    "    b = 237.7\n",
    "    m1 = (a*b)/(b+T)*Td - (a*b*T)/(b+T)\n",
    "    m2 = m1/(b+Td)\n",
    "    return 100*np.exp(m2)"
   ],
   "metadata": {
    "collapsed": false,
    "pycharm": {
     "name": "#%%\n"
    }
   }
  },
  {
   "cell_type": "code",
   "execution_count": null,
   "outputs": [],
   "source": [
    "def cal_WVD(T, Rh):\n",
    "    rou = 0.622"
   ],
   "metadata": {
    "collapsed": false,
    "pycharm": {
     "name": "#%%\n"
    }
   }
  },
  {
   "cell_type": "code",
   "execution_count": null,
   "outputs": [],
   "source": [
    "def extract_observation_rh(years):\n",
    "    dir_path = r'I:\\Data\\sn\\Yuzhong_1989_2020_MWMOD'\n",
    "    files_paths = []\n",
    "    for root, dirs, files in os.walk(dir_path):\n",
    "        for file in files:\n",
    "            if file[30:34] in years:\n",
    "                files_paths.append(os.path.join(root, file))\n",
    "\n",
    "    cols = ['1965', '2065', '2165', '2265', '2365', '2465', '2565', '2665',\n",
    "            '2765', '2865', '2965', '3215', '3465', '3715', '3965', '4215',\n",
    "            '4465', '4715', '4965', '5215', '5465', '5715', '5965', '6215',\n",
    "            '6465', '6715', '6965', '7215', '7465', '7715', '7965', '8215',\n",
    "            '8465', '8715', '8965', '9215', '9465', '9715', '9965', '10215',\n",
    "            '10465', '10715', '10965', '11215', '11465', '11715', '11965']\n",
    "    data = pd.DataFrame(columns=cols)\n",
    "    dat1 = pd.DataFrame(columns=cols)\n",
    "\n",
    "    for files_path in files_paths:\n",
    "        dat_file = pd.read_table(files_path, sep='\\s+', skiprows=5)\n",
    "        ti = files_path[65:69]+'/'+files_path[69:71]+'/'+files_path[71:73]+':'+files_path[73:75]\n",
    "        dat1.loc['Dp_tem'] = dat_file.iloc[:, 3].values\n",
    "        dat1[dat1 < -9000] = 0.001\n",
    "        dat1.loc['tem'] = dat_file.iloc[:, 2].values\n",
    "        if dat1.loc['tem'].mean() < 0:\n",
    "            continue\n",
    "        dat1.loc['Rh'] = cal_rh(dat1.loc['tem'], dat1.loc['Dp_tem'])\n",
    "        data.loc[ti] = dat1.loc['Rh']\n",
    "        # data.loc[ti] = dat_file.iloc[:, 2].values\n",
    "\n",
    "    return data"
   ],
   "metadata": {
    "collapsed": false,
    "pycharm": {
     "name": "#%%\n"
    }
   }
  }
 ],
 "metadata": {
  "kernelspec": {
   "display_name": "Python 3",
   "language": "python",
   "name": "python3"
  },
  "language_info": {
   "codemirror_mode": {
    "name": "ipython",
    "version": 2
   },
   "file_extension": ".py",
   "mimetype": "text/x-python",
   "name": "python",
   "nbconvert_exporter": "python",
   "pygments_lexer": "ipython2",
   "version": "2.7.6"
  }
 },
 "nbformat": 4,
 "nbformat_minor": 0
}