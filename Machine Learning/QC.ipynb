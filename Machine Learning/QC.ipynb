{
 "metadata": {
  "language_info": {
   "codemirror_mode": {
    "name": "ipython",
    "version": 3
   },
   "file_extension": ".py",
   "mimetype": "text/x-python",
   "name": "python",
   "nbconvert_exporter": "python",
   "pygments_lexer": "ipython3",
   "version": "3.7.9-final"
  },
  "orig_nbformat": 2,
  "kernelspec": {
   "name": "python3",
   "display_name": "Python 3",
   "language": "python"
  }
 },
 "nbformat": 4,
 "nbformat_minor": 2,
 "cells": [
  {
   "cell_type": "code",
   "execution_count": 1,
   "metadata": {},
   "outputs": [],
   "source": [
    "import pandas as pd\n",
    "import numpy as np"
   ]
  },
  {
   "cell_type": "code",
   "execution_count": 2,
   "metadata": {},
   "outputs": [],
   "source": [
    "statistics = pd.read_csv(r'I:\\Data\\Personal Data\\graduation project\\Code\\Machine Learning\\basicdata\\statistics.csv',index_col='Unnamed: 0')\n",
    "lv1_08 = pd.read_csv(r'I:\\Data\\Personal Data\\graduation project\\Code\\Machine Learning\\basicdata\\lv1_08.csv',index_col='Unnamed: 0')\n",
    "Temperature_08 = pd.read_csv(r'I:\\Data\\Personal Data\\graduation project\\Code\\Machine Learning\\basicdata\\Temperature_08.csv',index_col='Unnamed: 0')\n",
    "Relative_humidity_08 = pd.read_csv(r'I:\\Data\\Personal Data\\graduation project\\Code\\Machine Learning\\basicdata\\Relative_humidity_08.csv',index_col='Unnamed: 0')"
   ]
  },
  {
   "cell_type": "code",
   "execution_count": 3,
   "metadata": {},
   "outputs": [],
   "source": [
    "QC_statistics = statistics.replace(0,np.nan).dropna().drop(statistics[(statistics.lv1_08 > 50)].index)\n",
    "# del statistics # 释放statistics\n",
    "QC_statistics.insert(1,'Ground temperature','')\n",
    "QC_statistics.insert(3,'Relative_humidity_08_H0','')"
   ]
  },
  {
   "cell_type": "code",
   "execution_count": 4,
   "metadata": {},
   "outputs": [
    {
     "output_type": "execute_result",
     "data": {
      "text/plain": [
       "            lv1_08 Ground temperature  Temperature_08 Relative_humidity_08_H0  \\\n",
       "2009/02/03    31.0         269.326129              47               255.43889   \n",
       "2009/02/04    31.0         269.235161              47               257.82559   \n",
       "2009/02/05    31.0         271.209677              47               258.33026   \n",
       "\n",
       "            Relative_humidity_08  lv1_20  Temperature_20  Relative_humidity_20  \n",
       "2009/02/03                    42    31.0            47.0                  42.0  \n",
       "2009/02/04                    42    31.0            47.0                  42.0  \n",
       "2009/02/05                    35    31.0            47.0                  35.0  "
      ],
      "text/html": "<div>\n<style scoped>\n    .dataframe tbody tr th:only-of-type {\n        vertical-align: middle;\n    }\n\n    .dataframe tbody tr th {\n        vertical-align: top;\n    }\n\n    .dataframe thead th {\n        text-align: right;\n    }\n</style>\n<table border=\"1\" class=\"dataframe\">\n  <thead>\n    <tr style=\"text-align: right;\">\n      <th></th>\n      <th>lv1_08</th>\n      <th>Ground temperature</th>\n      <th>Temperature_08</th>\n      <th>Relative_humidity_08_H0</th>\n      <th>Relative_humidity_08</th>\n      <th>lv1_20</th>\n      <th>Temperature_20</th>\n      <th>Relative_humidity_20</th>\n    </tr>\n  </thead>\n  <tbody>\n    <tr>\n      <th>2009/02/03</th>\n      <td>31.0</td>\n      <td>269.326129</td>\n      <td>47</td>\n      <td>255.43889</td>\n      <td>42</td>\n      <td>31.0</td>\n      <td>47.0</td>\n      <td>42.0</td>\n    </tr>\n    <tr>\n      <th>2009/02/04</th>\n      <td>31.0</td>\n      <td>269.235161</td>\n      <td>47</td>\n      <td>257.82559</td>\n      <td>42</td>\n      <td>31.0</td>\n      <td>47.0</td>\n      <td>42.0</td>\n    </tr>\n    <tr>\n      <th>2009/02/05</th>\n      <td>31.0</td>\n      <td>271.209677</td>\n      <td>47</td>\n      <td>258.33026</td>\n      <td>35</td>\n      <td>31.0</td>\n      <td>47.0</td>\n      <td>35.0</td>\n    </tr>\n  </tbody>\n</table>\n</div>"
     },
     "metadata": {},
     "execution_count": 4
    }
   ],
   "source": [
    "for i in QC_statistics.index:\n",
    "    QC_statistics.loc[i,'Ground temperature'] = lv1_08.loc[i,'Tamb(K)']\n",
    "    QC_statistics.loc[i,'Relative_humidity_08_H0'] = Temperature_08.loc[i,'0.00']\n",
    "QC_statistics.head(3)"
   ]
  },
  {
   "cell_type": "code",
   "execution_count": 32,
   "metadata": {},
   "outputs": [
    {
     "output_type": "stream",
     "name": "stdout",
     "text": [
      "89.00564 85.15846\n",
      "88.8706 84.16267\n",
      "88.2836 84.52787\n",
      "88.6585 84.1844\n",
      "88.81409 84.9511\n",
      "89.61576 84.07603\n",
      "88.2076 84.82972\n",
      "88.8252 84.3552\n",
      "87.54533 84.19318\n",
      "88.69694 85.2596\n",
      "90.9403 84.16692\n",
      "90.75278 86.3692\n",
      "89.48986 86.1276\n",
      "89.9373 86.25161\n",
      "90.90926 84.81115\n",
      "90.4736 84.52705\n",
      "89.8411 85.29372\n",
      "89.24274 84.12028\n",
      "90.6062 85.02835\n",
      "87.7582 84.09038\n",
      "89.19118 84.48304\n",
      "88.28251 84.92685\n",
      "89.4502 84.89468\n",
      "87.7625 84.29828\n",
      "89.34037 84.88736\n",
      "89.3871 84.23222\n",
      "89.027 84.59991\n",
      "88.12173 84.51429\n",
      "88.8993 84.76366\n",
      "88.8463 84.08941\n",
      "87.97088 84.43871\n",
      "89.1096 85.68048\n",
      "88.79633 84.87074\n",
      "88.9977 84.28162\n",
      "88.9171 84.17943\n"
     ]
    }
   ],
   "source": [
    "Relative_humidity_08[Relative_humidity_08<84] = np.nan\n",
    "for i in range(Relative_humidity_08.shape[0]):\n",
    "    m_ax = Relative_humidity_08.max(axis=1)[i]\n",
    "    m_in = Relative_humidity_08.min(axis=1)[i]\n",
    "    if((m_ax>87)and(m_in>84)and((m_ax-m_in)>3)):\n",
    "        print(m_ax,m_in)\n"
   ]
  }
 ]
}