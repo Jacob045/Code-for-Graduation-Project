{
 "metadata": {
  "language_info": {
   "codemirror_mode": {
    "name": "ipython",
    "version": 3
   },
   "file_extension": ".py",
   "mimetype": "text/x-python",
   "name": "python",
   "nbconvert_exporter": "python",
   "pygments_lexer": "ipython3",
   "version": "3.8.8-final"
  },
  "orig_nbformat": 2,
  "kernelspec": {
   "name": "python3",
   "display_name": "Python 3",
   "language": "python"
  }
 },
 "nbformat": 4,
 "nbformat_minor": 2,
 "cells": [
  {
   "cell_type": "code",
   "execution_count": 1,
   "metadata": {},
   "outputs": [],
   "source": [
    "import pandas as pd\n",
    "import numpy as np"
   ]
  },
  {
   "cell_type": "code",
   "execution_count": 45,
   "metadata": {},
   "outputs": [],
   "source": [
    "statistics = pd.read_csv(r'I:\\Data\\Personal Data\\graduation project\\Code\\Machine Learning\\basicdata\\statistics.csv',index_col='Unnamed: 0')\n",
    "lv1_08 = pd.read_csv(r'I:\\Data\\Personal Data\\graduation project\\Code\\Machine Learning\\basicdata\\lv1_08.csv',index_col='Unnamed: 0')\n",
    "Temperature_08 = pd.read_csv(r'I:\\Data\\Personal Data\\graduation project\\Code\\Machine Learning\\basicdata\\Temperature_08.csv',index_col='Unnamed: 0')"
   ]
  },
  {
   "cell_type": "code",
   "execution_count": 46,
   "metadata": {},
   "outputs": [],
   "source": [
    "QC_statistics = statistics.replace(0,np.nan).dropna().drop(statistics[(statistics.lv1_08 > 50)].index)\n",
    "# del statistics # 释放statistics\n",
    "QC_statistics.insert(1,'Ground temperature','')\n",
    "QC_statistics.insert(3,'Relative_humidity_08_H0','')"
   ]
  },
  {
   "cell_type": "code",
   "execution_count": 49,
   "metadata": {},
   "outputs": [
    {
     "output_type": "stream",
     "name": "stdout",
     "text": [
      "Index(['lv1_08', 'Ground temperature', 'Temperature_08',\n       'Relative_humidity_08_H0', 'Relative_humidity_08', 'lv1_20',\n       'Temperature_20', 'Relative_humidity_20'],\n      dtype='object') Index(['10', 'Tamb(K)', 'Rh(%)', 'Pres(mb)', 'Tir(K)', 'Rain', 'Azim', 'Elev',\n       'TkBB(K)', ' 22.235', ' 23.035', ' 23.835', ' 26.235', ' 30.000',\n       ' 51.250', ' 52.280', ' 53.850', ' 54.940', ' 56.660', ' 57.290',\n       ' 58.800'],\n      dtype='object') Index(['0.00', '0.10', '0.20', '0.30', '0.40', '0.50', '0.60', '0.70', '0.80',\n       '0.90', '1.00', '1.25', '1.50', '1.75', '2.00', '2.25', '2.50', '2.75',\n       '3.00', '3.25', '3.50', '3.75', '4.00', '4.25', '4.50', '4.75', '5.00',\n       '5.25', '5.50', '5.75', '6.00', '6.25', '6.50', '6.75', '7.00', '7.25',\n       '7.50', '7.75', '8.00', '8.25', '8.50', '8.75', '9.00', '9.25', '9.50',\n       '9.75', '10.00'],\n      dtype='object')\n"
     ]
    },
    {
     "output_type": "execute_result",
     "data": {
      "text/plain": [
       "                 0.00       0.10       0.20       0.30       0.40       0.50  \\\n",
       "2009/01/01  254.99678  254.58287  254.16812  253.75252  253.33598  252.91852   \n",
       "2009/01/02  253.63045  253.26474  252.89828  252.53099  252.16301  251.79413   \n",
       "2009/01/03  250.78346  250.39270  250.00101  249.60854  249.21524  248.82106   \n",
       "2009/01/04  252.15324  251.86101  251.56815  251.27469  250.98059  250.68579   \n",
       "2009/01/05  255.25302  254.78677  254.31953  253.85126  253.38199  252.91179   \n",
       "...               ...        ...        ...        ...        ...        ...   \n",
       "2009/12/27  251.51984  251.05913  250.59735  250.13461  249.67081  249.20607   \n",
       "2009/12/28  252.20160  251.86044  251.51859  251.17595  250.83263  250.48854   \n",
       "2009/12/29  252.35194  251.69887  251.04436  250.38852  249.73117  249.07243   \n",
       "2009/12/30  253.78883  253.44101  253.09238  252.74304  252.39296  252.04213   \n",
       "2009/12/31  255.16524  254.84799  254.53014  254.21155  253.89232  253.57237   \n",
       "\n",
       "                 0.60       0.70       0.80       0.90  ...       7.75  \\\n",
       "2009/01/01  252.50023  252.08099  251.53888  250.84637  ...  220.65868   \n",
       "2009/01/02  251.42453  251.05408  250.49629  249.70903  ...  220.93877   \n",
       "2009/01/03  248.42610  248.00464  247.09605  246.18541  ...  218.77017   \n",
       "2009/01/04  250.39046  250.09445  249.28191  248.37648  ...  212.89836   \n",
       "2009/01/05  252.44051  251.96822  251.38301  250.75917  ...  216.16071   \n",
       "...               ...        ...        ...        ...  ...        ...   \n",
       "2009/12/27  248.74022  248.27338  247.67432  247.06715  ...  212.83063   \n",
       "2009/12/28  250.14369  249.72209  248.86852  248.01308  ...  216.25000   \n",
       "2009/12/29  248.41231  247.74989  247.08188  246.41241  ...  217.44998   \n",
       "2009/12/30  251.69055  251.33827  250.66956  249.89398  ...  217.15599   \n",
       "2009/12/31  253.25177  252.93050  252.30397  251.57448  ...  215.69649   \n",
       "\n",
       "                 8.00       8.25       8.50       8.75       9.00       9.25  \\\n",
       "2009/01/01  219.76732  218.86905  217.96393  217.05164  216.18666  215.33034   \n",
       "2009/01/02  220.43028  219.91791  219.40163  218.88135  218.13438  217.36734   \n",
       "2009/01/03  219.35873  219.95175  220.54945  220.29910  219.19092  218.07411   \n",
       "2009/01/04  213.92400  214.95773  215.99973  217.59827  220.10678  222.63464   \n",
       "2009/01/05  216.07849  215.99571  215.91223  215.86343  215.91521  215.96753   \n",
       "...               ...        ...        ...        ...        ...        ...   \n",
       "2009/12/27  213.67009  214.51369  215.36050  215.05244  214.14110  213.22252   \n",
       "2009/12/28  216.24997  216.24998  216.25002  215.73254  214.89354  214.05981   \n",
       "2009/12/29  217.45001  217.44997  217.45000  216.84706  215.92743  215.00058   \n",
       "2009/12/30  216.25398  215.34503  214.42899  213.50558  212.32220  211.11293   \n",
       "2009/12/31  215.10109  214.50105  213.89630  213.28668  211.88200  211.07260   \n",
       "\n",
       "                 9.50       9.75      10.00  \n",
       "2009/01/01  214.46716  213.59694  212.71956  \n",
       "2009/01/02  216.59419  215.81479  215.02904  \n",
       "2009/01/03  216.94832  215.81343  214.66922  \n",
       "2009/01/04  225.18230  227.75021  230.33896  \n",
       "2009/01/05  216.02007  216.06319  216.09357  \n",
       "...               ...        ...        ...  \n",
       "2009/12/27  212.29633  211.36258  211.73154  \n",
       "2009/12/28  213.21939  212.37210  211.51770  \n",
       "2009/12/29  214.68385  214.73859  214.79370  \n",
       "2009/12/30  209.89372  208.66425  207.42444  \n",
       "2009/12/31  210.75839  210.44159  210.12216  \n",
       "\n",
       "[365 rows x 47 columns]"
      ],
      "text/html": "<div>\n<style scoped>\n    .dataframe tbody tr th:only-of-type {\n        vertical-align: middle;\n    }\n\n    .dataframe tbody tr th {\n        vertical-align: top;\n    }\n\n    .dataframe thead th {\n        text-align: right;\n    }\n</style>\n<table border=\"1\" class=\"dataframe\">\n  <thead>\n    <tr style=\"text-align: right;\">\n      <th></th>\n      <th>0.00</th>\n      <th>0.10</th>\n      <th>0.20</th>\n      <th>0.30</th>\n      <th>0.40</th>\n      <th>0.50</th>\n      <th>0.60</th>\n      <th>0.70</th>\n      <th>0.80</th>\n      <th>0.90</th>\n      <th>...</th>\n      <th>7.75</th>\n      <th>8.00</th>\n      <th>8.25</th>\n      <th>8.50</th>\n      <th>8.75</th>\n      <th>9.00</th>\n      <th>9.25</th>\n      <th>9.50</th>\n      <th>9.75</th>\n      <th>10.00</th>\n    </tr>\n  </thead>\n  <tbody>\n    <tr>\n      <th>2009/01/01</th>\n      <td>254.99678</td>\n      <td>254.58287</td>\n      <td>254.16812</td>\n      <td>253.75252</td>\n      <td>253.33598</td>\n      <td>252.91852</td>\n      <td>252.50023</td>\n      <td>252.08099</td>\n      <td>251.53888</td>\n      <td>250.84637</td>\n      <td>...</td>\n      <td>220.65868</td>\n      <td>219.76732</td>\n      <td>218.86905</td>\n      <td>217.96393</td>\n      <td>217.05164</td>\n      <td>216.18666</td>\n      <td>215.33034</td>\n      <td>214.46716</td>\n      <td>213.59694</td>\n      <td>212.71956</td>\n    </tr>\n    <tr>\n      <th>2009/01/02</th>\n      <td>253.63045</td>\n      <td>253.26474</td>\n      <td>252.89828</td>\n      <td>252.53099</td>\n      <td>252.16301</td>\n      <td>251.79413</td>\n      <td>251.42453</td>\n      <td>251.05408</td>\n      <td>250.49629</td>\n      <td>249.70903</td>\n      <td>...</td>\n      <td>220.93877</td>\n      <td>220.43028</td>\n      <td>219.91791</td>\n      <td>219.40163</td>\n      <td>218.88135</td>\n      <td>218.13438</td>\n      <td>217.36734</td>\n      <td>216.59419</td>\n      <td>215.81479</td>\n      <td>215.02904</td>\n    </tr>\n    <tr>\n      <th>2009/01/03</th>\n      <td>250.78346</td>\n      <td>250.39270</td>\n      <td>250.00101</td>\n      <td>249.60854</td>\n      <td>249.21524</td>\n      <td>248.82106</td>\n      <td>248.42610</td>\n      <td>248.00464</td>\n      <td>247.09605</td>\n      <td>246.18541</td>\n      <td>...</td>\n      <td>218.77017</td>\n      <td>219.35873</td>\n      <td>219.95175</td>\n      <td>220.54945</td>\n      <td>220.29910</td>\n      <td>219.19092</td>\n      <td>218.07411</td>\n      <td>216.94832</td>\n      <td>215.81343</td>\n      <td>214.66922</td>\n    </tr>\n    <tr>\n      <th>2009/01/04</th>\n      <td>252.15324</td>\n      <td>251.86101</td>\n      <td>251.56815</td>\n      <td>251.27469</td>\n      <td>250.98059</td>\n      <td>250.68579</td>\n      <td>250.39046</td>\n      <td>250.09445</td>\n      <td>249.28191</td>\n      <td>248.37648</td>\n      <td>...</td>\n      <td>212.89836</td>\n      <td>213.92400</td>\n      <td>214.95773</td>\n      <td>215.99973</td>\n      <td>217.59827</td>\n      <td>220.10678</td>\n      <td>222.63464</td>\n      <td>225.18230</td>\n      <td>227.75021</td>\n      <td>230.33896</td>\n    </tr>\n    <tr>\n      <th>2009/01/05</th>\n      <td>255.25302</td>\n      <td>254.78677</td>\n      <td>254.31953</td>\n      <td>253.85126</td>\n      <td>253.38199</td>\n      <td>252.91179</td>\n      <td>252.44051</td>\n      <td>251.96822</td>\n      <td>251.38301</td>\n      <td>250.75917</td>\n      <td>...</td>\n      <td>216.16071</td>\n      <td>216.07849</td>\n      <td>215.99571</td>\n      <td>215.91223</td>\n      <td>215.86343</td>\n      <td>215.91521</td>\n      <td>215.96753</td>\n      <td>216.02007</td>\n      <td>216.06319</td>\n      <td>216.09357</td>\n    </tr>\n    <tr>\n      <th>...</th>\n      <td>...</td>\n      <td>...</td>\n      <td>...</td>\n      <td>...</td>\n      <td>...</td>\n      <td>...</td>\n      <td>...</td>\n      <td>...</td>\n      <td>...</td>\n      <td>...</td>\n      <td>...</td>\n      <td>...</td>\n      <td>...</td>\n      <td>...</td>\n      <td>...</td>\n      <td>...</td>\n      <td>...</td>\n      <td>...</td>\n      <td>...</td>\n      <td>...</td>\n      <td>...</td>\n    </tr>\n    <tr>\n      <th>2009/12/27</th>\n      <td>251.51984</td>\n      <td>251.05913</td>\n      <td>250.59735</td>\n      <td>250.13461</td>\n      <td>249.67081</td>\n      <td>249.20607</td>\n      <td>248.74022</td>\n      <td>248.27338</td>\n      <td>247.67432</td>\n      <td>247.06715</td>\n      <td>...</td>\n      <td>212.83063</td>\n      <td>213.67009</td>\n      <td>214.51369</td>\n      <td>215.36050</td>\n      <td>215.05244</td>\n      <td>214.14110</td>\n      <td>213.22252</td>\n      <td>212.29633</td>\n      <td>211.36258</td>\n      <td>211.73154</td>\n    </tr>\n    <tr>\n      <th>2009/12/28</th>\n      <td>252.20160</td>\n      <td>251.86044</td>\n      <td>251.51859</td>\n      <td>251.17595</td>\n      <td>250.83263</td>\n      <td>250.48854</td>\n      <td>250.14369</td>\n      <td>249.72209</td>\n      <td>248.86852</td>\n      <td>248.01308</td>\n      <td>...</td>\n      <td>216.25000</td>\n      <td>216.24997</td>\n      <td>216.24998</td>\n      <td>216.25002</td>\n      <td>215.73254</td>\n      <td>214.89354</td>\n      <td>214.05981</td>\n      <td>213.21939</td>\n      <td>212.37210</td>\n      <td>211.51770</td>\n    </tr>\n    <tr>\n      <th>2009/12/29</th>\n      <td>252.35194</td>\n      <td>251.69887</td>\n      <td>251.04436</td>\n      <td>250.38852</td>\n      <td>249.73117</td>\n      <td>249.07243</td>\n      <td>248.41231</td>\n      <td>247.74989</td>\n      <td>247.08188</td>\n      <td>246.41241</td>\n      <td>...</td>\n      <td>217.44998</td>\n      <td>217.45001</td>\n      <td>217.44997</td>\n      <td>217.45000</td>\n      <td>216.84706</td>\n      <td>215.92743</td>\n      <td>215.00058</td>\n      <td>214.68385</td>\n      <td>214.73859</td>\n      <td>214.79370</td>\n    </tr>\n    <tr>\n      <th>2009/12/30</th>\n      <td>253.78883</td>\n      <td>253.44101</td>\n      <td>253.09238</td>\n      <td>252.74304</td>\n      <td>252.39296</td>\n      <td>252.04213</td>\n      <td>251.69055</td>\n      <td>251.33827</td>\n      <td>250.66956</td>\n      <td>249.89398</td>\n      <td>...</td>\n      <td>217.15599</td>\n      <td>216.25398</td>\n      <td>215.34503</td>\n      <td>214.42899</td>\n      <td>213.50558</td>\n      <td>212.32220</td>\n      <td>211.11293</td>\n      <td>209.89372</td>\n      <td>208.66425</td>\n      <td>207.42444</td>\n    </tr>\n    <tr>\n      <th>2009/12/31</th>\n      <td>255.16524</td>\n      <td>254.84799</td>\n      <td>254.53014</td>\n      <td>254.21155</td>\n      <td>253.89232</td>\n      <td>253.57237</td>\n      <td>253.25177</td>\n      <td>252.93050</td>\n      <td>252.30397</td>\n      <td>251.57448</td>\n      <td>...</td>\n      <td>215.69649</td>\n      <td>215.10109</td>\n      <td>214.50105</td>\n      <td>213.89630</td>\n      <td>213.28668</td>\n      <td>211.88200</td>\n      <td>211.07260</td>\n      <td>210.75839</td>\n      <td>210.44159</td>\n      <td>210.12216</td>\n    </tr>\n  </tbody>\n</table>\n<p>365 rows × 47 columns</p>\n</div>"
     },
     "metadata": {},
     "execution_count": 49
    }
   ],
   "source": [
    "print(QC_statistics.columns,lv1_08.columns,Temperature_08.columns)\n",
    "Temperature_08"
   ]
  },
  {
   "cell_type": "code",
   "execution_count": 50,
   "metadata": {},
   "outputs": [
    {
     "output_type": "execute_result",
     "data": {
      "text/plain": [
       "            lv1_08 Ground temperature  Temperature_08 Relative_humidity_08_H0  \\\n",
       "2009/02/03    31.0         269.326129              47               255.43889   \n",
       "2009/02/04    31.0         269.235161              47               257.82559   \n",
       "2009/02/05    31.0         271.209677              47               258.33026   \n",
       "2009/02/06    31.0         272.547097              47               261.03134   \n",
       "2009/02/07    31.0         272.243548              47               261.83905   \n",
       "...            ...                ...             ...                     ...   \n",
       "2009/12/26    31.0         264.241935              47               251.37892   \n",
       "2009/12/27    31.0         257.694839              47               251.51984   \n",
       "2009/12/29    31.0         262.256452              47               252.35194   \n",
       "2009/12/30    31.0         261.539032              47               253.78883   \n",
       "2009/12/31    31.0         264.798065              47               255.16524   \n",
       "\n",
       "            Relative_humidity_08  lv1_20  Temperature_20  Relative_humidity_20  \n",
       "2009/02/03                    42    31.0            47.0                  42.0  \n",
       "2009/02/04                    42    31.0            47.0                  42.0  \n",
       "2009/02/05                    35    31.0            47.0                  35.0  \n",
       "2009/02/06                    35    31.0            47.0                  35.0  \n",
       "2009/02/07                    35    31.0            47.0                  35.0  \n",
       "...                          ...     ...             ...                   ...  \n",
       "2009/12/26                    28    31.0            47.0                  47.0  \n",
       "2009/12/27                    28    31.0            47.0                  28.0  \n",
       "2009/12/29                    23    31.0            47.0                  41.0  \n",
       "2009/12/30                    42    31.0            47.0                  34.0  \n",
       "2009/12/31                    42    31.0            47.0                  30.0  \n",
       "\n",
       "[283 rows x 8 columns]"
      ],
      "text/html": "<div>\n<style scoped>\n    .dataframe tbody tr th:only-of-type {\n        vertical-align: middle;\n    }\n\n    .dataframe tbody tr th {\n        vertical-align: top;\n    }\n\n    .dataframe thead th {\n        text-align: right;\n    }\n</style>\n<table border=\"1\" class=\"dataframe\">\n  <thead>\n    <tr style=\"text-align: right;\">\n      <th></th>\n      <th>lv1_08</th>\n      <th>Ground temperature</th>\n      <th>Temperature_08</th>\n      <th>Relative_humidity_08_H0</th>\n      <th>Relative_humidity_08</th>\n      <th>lv1_20</th>\n      <th>Temperature_20</th>\n      <th>Relative_humidity_20</th>\n    </tr>\n  </thead>\n  <tbody>\n    <tr>\n      <th>2009/02/03</th>\n      <td>31.0</td>\n      <td>269.326129</td>\n      <td>47</td>\n      <td>255.43889</td>\n      <td>42</td>\n      <td>31.0</td>\n      <td>47.0</td>\n      <td>42.0</td>\n    </tr>\n    <tr>\n      <th>2009/02/04</th>\n      <td>31.0</td>\n      <td>269.235161</td>\n      <td>47</td>\n      <td>257.82559</td>\n      <td>42</td>\n      <td>31.0</td>\n      <td>47.0</td>\n      <td>42.0</td>\n    </tr>\n    <tr>\n      <th>2009/02/05</th>\n      <td>31.0</td>\n      <td>271.209677</td>\n      <td>47</td>\n      <td>258.33026</td>\n      <td>35</td>\n      <td>31.0</td>\n      <td>47.0</td>\n      <td>35.0</td>\n    </tr>\n    <tr>\n      <th>2009/02/06</th>\n      <td>31.0</td>\n      <td>272.547097</td>\n      <td>47</td>\n      <td>261.03134</td>\n      <td>35</td>\n      <td>31.0</td>\n      <td>47.0</td>\n      <td>35.0</td>\n    </tr>\n    <tr>\n      <th>2009/02/07</th>\n      <td>31.0</td>\n      <td>272.243548</td>\n      <td>47</td>\n      <td>261.83905</td>\n      <td>35</td>\n      <td>31.0</td>\n      <td>47.0</td>\n      <td>35.0</td>\n    </tr>\n    <tr>\n      <th>...</th>\n      <td>...</td>\n      <td>...</td>\n      <td>...</td>\n      <td>...</td>\n      <td>...</td>\n      <td>...</td>\n      <td>...</td>\n      <td>...</td>\n    </tr>\n    <tr>\n      <th>2009/12/26</th>\n      <td>31.0</td>\n      <td>264.241935</td>\n      <td>47</td>\n      <td>251.37892</td>\n      <td>28</td>\n      <td>31.0</td>\n      <td>47.0</td>\n      <td>47.0</td>\n    </tr>\n    <tr>\n      <th>2009/12/27</th>\n      <td>31.0</td>\n      <td>257.694839</td>\n      <td>47</td>\n      <td>251.51984</td>\n      <td>28</td>\n      <td>31.0</td>\n      <td>47.0</td>\n      <td>28.0</td>\n    </tr>\n    <tr>\n      <th>2009/12/29</th>\n      <td>31.0</td>\n      <td>262.256452</td>\n      <td>47</td>\n      <td>252.35194</td>\n      <td>23</td>\n      <td>31.0</td>\n      <td>47.0</td>\n      <td>41.0</td>\n    </tr>\n    <tr>\n      <th>2009/12/30</th>\n      <td>31.0</td>\n      <td>261.539032</td>\n      <td>47</td>\n      <td>253.78883</td>\n      <td>42</td>\n      <td>31.0</td>\n      <td>47.0</td>\n      <td>34.0</td>\n    </tr>\n    <tr>\n      <th>2009/12/31</th>\n      <td>31.0</td>\n      <td>264.798065</td>\n      <td>47</td>\n      <td>255.16524</td>\n      <td>42</td>\n      <td>31.0</td>\n      <td>47.0</td>\n      <td>30.0</td>\n    </tr>\n  </tbody>\n</table>\n<p>283 rows × 8 columns</p>\n</div>"
     },
     "metadata": {},
     "execution_count": 50
    }
   ],
   "source": [
    "for i in QC_statistics.index:\n",
    "    QC_statistics.loc[i,'Ground temperature'] = lv1_08.loc[i,'Tamb(K)']\n",
    "    QC_statistics.loc[i,'Relative_humidity_08_H0'] = Temperature_08.loc[i,'0.00']\n",
    "QC_statistics"
   ]
  }
 ]
}