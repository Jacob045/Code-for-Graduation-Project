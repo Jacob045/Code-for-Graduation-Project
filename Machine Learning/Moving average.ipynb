{
 "metadata": {
  "language_info": {
   "codemirror_mode": {
    "name": "ipython",
    "version": 3
   },
   "file_extension": ".py",
   "mimetype": "text/x-python",
   "name": "python",
   "nbconvert_exporter": "python",
   "pygments_lexer": "ipython3",
   "version": "3.7.9-final"
  },
  "orig_nbformat": 2,
  "kernelspec": {
   "name": "python3",
   "display_name": "Python 3",
   "language": "python"
  }
 },
 "nbformat": 4,
 "nbformat_minor": 2,
 "cells": [
  {
   "cell_type": "code",
   "execution_count": null,
   "metadata": {},
   "outputs": [],
   "source": [
    "import pandas as pd\n",
    "import numpy as np\n",
    "import matplotlib.pyplot as plt"
   ]
  },
  {
   "cell_type": "code",
   "execution_count": 41,
   "metadata": {},
   "outputs": [
    {
     "output_type": "execute_result",
     "data": {
      "text/plain": [
       "            Date/Time  10  Tamb(K)  Rh(%)  Pres(mb)  Tir(K) Rain  Azim  Elev  \\\n",
       "Record                                                                         \n",
       "1       2002/5/9 0:03  11   273.33  80.73     793.7   270.3    N     0    90   \n",
       "2       2002/5/9 0:04  11   273.30  80.73     793.7   271.7    N     0    90   \n",
       "3       2002/5/9 0:05  11   273.41  80.68     793.7   270.1    N     0    90   \n",
       "4       2002/5/9 0:06  11   273.46  80.53     793.7   270.7    N     0    90   \n",
       "5       2002/5/9 0:07  11   273.43  80.39     793.7   268.4    N     0    90   \n",
       "\n",
       "        TkBB(K)  ...  23.835  26.235    30  51.25   52.28   53.85   54.94  \\\n",
       "Record           ...                                                        \n",
       "1        282.91  ...   12.15    9.35  9.05  72.28  103.98  211.42  263.66   \n",
       "2        282.91  ...   12.23    9.30  7.63  71.05  104.45  211.15  264.07   \n",
       "3        282.93  ...   12.15    9.27  9.20  71.96  103.43  212.11  263.53   \n",
       "4        282.92  ...   12.28    8.90  9.18  70.75  104.02  212.08  263.94   \n",
       "5        282.94  ...   12.32    9.71  8.67  73.51  103.51  210.82  263.47   \n",
       "\n",
       "         56.66   57.29    58.8  \n",
       "Record                          \n",
       "1       271.54  272.47  272.34  \n",
       "2       272.51  272.40  272.77  \n",
       "3       272.13  272.10  273.07  \n",
       "4       271.92  272.78  272.84  \n",
       "5       272.19  272.49  272.46  \n",
       "\n",
       "[5 rows x 22 columns]"
      ],
      "text/html": "<div>\n<style scoped>\n    .dataframe tbody tr th:only-of-type {\n        vertical-align: middle;\n    }\n\n    .dataframe tbody tr th {\n        vertical-align: top;\n    }\n\n    .dataframe thead th {\n        text-align: right;\n    }\n</style>\n<table border=\"1\" class=\"dataframe\">\n  <thead>\n    <tr style=\"text-align: right;\">\n      <th></th>\n      <th>Date/Time</th>\n      <th>10</th>\n      <th>Tamb(K)</th>\n      <th>Rh(%)</th>\n      <th>Pres(mb)</th>\n      <th>Tir(K)</th>\n      <th>Rain</th>\n      <th>Azim</th>\n      <th>Elev</th>\n      <th>TkBB(K)</th>\n      <th>...</th>\n      <th>23.835</th>\n      <th>26.235</th>\n      <th>30</th>\n      <th>51.25</th>\n      <th>52.28</th>\n      <th>53.85</th>\n      <th>54.94</th>\n      <th>56.66</th>\n      <th>57.29</th>\n      <th>58.8</th>\n    </tr>\n    <tr>\n      <th>Record</th>\n      <th></th>\n      <th></th>\n      <th></th>\n      <th></th>\n      <th></th>\n      <th></th>\n      <th></th>\n      <th></th>\n      <th></th>\n      <th></th>\n      <th></th>\n      <th></th>\n      <th></th>\n      <th></th>\n      <th></th>\n      <th></th>\n      <th></th>\n      <th></th>\n      <th></th>\n      <th></th>\n      <th></th>\n    </tr>\n  </thead>\n  <tbody>\n    <tr>\n      <th>1</th>\n      <td>2002/5/9 0:03</td>\n      <td>11</td>\n      <td>273.33</td>\n      <td>80.73</td>\n      <td>793.7</td>\n      <td>270.3</td>\n      <td>N</td>\n      <td>0</td>\n      <td>90</td>\n      <td>282.91</td>\n      <td>...</td>\n      <td>12.15</td>\n      <td>9.35</td>\n      <td>9.05</td>\n      <td>72.28</td>\n      <td>103.98</td>\n      <td>211.42</td>\n      <td>263.66</td>\n      <td>271.54</td>\n      <td>272.47</td>\n      <td>272.34</td>\n    </tr>\n    <tr>\n      <th>2</th>\n      <td>2002/5/9 0:04</td>\n      <td>11</td>\n      <td>273.30</td>\n      <td>80.73</td>\n      <td>793.7</td>\n      <td>271.7</td>\n      <td>N</td>\n      <td>0</td>\n      <td>90</td>\n      <td>282.91</td>\n      <td>...</td>\n      <td>12.23</td>\n      <td>9.30</td>\n      <td>7.63</td>\n      <td>71.05</td>\n      <td>104.45</td>\n      <td>211.15</td>\n      <td>264.07</td>\n      <td>272.51</td>\n      <td>272.40</td>\n      <td>272.77</td>\n    </tr>\n    <tr>\n      <th>3</th>\n      <td>2002/5/9 0:05</td>\n      <td>11</td>\n      <td>273.41</td>\n      <td>80.68</td>\n      <td>793.7</td>\n      <td>270.1</td>\n      <td>N</td>\n      <td>0</td>\n      <td>90</td>\n      <td>282.93</td>\n      <td>...</td>\n      <td>12.15</td>\n      <td>9.27</td>\n      <td>9.20</td>\n      <td>71.96</td>\n      <td>103.43</td>\n      <td>212.11</td>\n      <td>263.53</td>\n      <td>272.13</td>\n      <td>272.10</td>\n      <td>273.07</td>\n    </tr>\n    <tr>\n      <th>4</th>\n      <td>2002/5/9 0:06</td>\n      <td>11</td>\n      <td>273.46</td>\n      <td>80.53</td>\n      <td>793.7</td>\n      <td>270.7</td>\n      <td>N</td>\n      <td>0</td>\n      <td>90</td>\n      <td>282.92</td>\n      <td>...</td>\n      <td>12.28</td>\n      <td>8.90</td>\n      <td>9.18</td>\n      <td>70.75</td>\n      <td>104.02</td>\n      <td>212.08</td>\n      <td>263.94</td>\n      <td>271.92</td>\n      <td>272.78</td>\n      <td>272.84</td>\n    </tr>\n    <tr>\n      <th>5</th>\n      <td>2002/5/9 0:07</td>\n      <td>11</td>\n      <td>273.43</td>\n      <td>80.39</td>\n      <td>793.7</td>\n      <td>268.4</td>\n      <td>N</td>\n      <td>0</td>\n      <td>90</td>\n      <td>282.94</td>\n      <td>...</td>\n      <td>12.32</td>\n      <td>9.71</td>\n      <td>8.67</td>\n      <td>73.51</td>\n      <td>103.51</td>\n      <td>210.82</td>\n      <td>263.47</td>\n      <td>272.19</td>\n      <td>272.49</td>\n      <td>272.46</td>\n    </tr>\n  </tbody>\n</table>\n<p>5 rows × 22 columns</p>\n</div>"
     },
     "metadata": {},
     "execution_count": 41
    }
   ],
   "source": [
    "lv1_data = pd.read_csv(r'I:\\Data\\Personal Data\\graduation project\\SACOL\\microwave\\\\2009\\200902\\2009-02-05_00-02-03_lv1.csv',index_col='Record',)\n",
    "# lv1_data.drop(['Unnamed: 23'],axis=1,inplace=True)\n",
    "lv1_data.head(5)"
   ]
  },
  {
   "cell_type": "code",
   "execution_count": 45,
   "metadata": {},
   "outputs": [
    {
     "output_type": "stream",
     "name": "stdout",
     "text": [
      "22.235\n23.035\n23.835\n26.235\n30\n51.25\n52.28\n53.85\n54.94\n56.66\n57.29\n58.8\n"
     ]
    }
   ],
   "source": [
    "n =31\n",
    "for col in lv1_data.columns[10:22]:\n",
    "    print(col)\n",
    "    y = np.convolve(pd.to_numeric(lv1_data[col]),np.ones(n,)/n,mode='full')\n",
    "    y[:n-1] = np.nan\n",
    "    lv1_data[col] = y[:-(n-1)]"
   ]
  }
 ]
}