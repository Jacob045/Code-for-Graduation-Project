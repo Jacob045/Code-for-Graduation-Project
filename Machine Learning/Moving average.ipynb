{
 "metadata": {
  "language_info": {
   "codemirror_mode": {
    "name": "ipython",
    "version": 3
   },
   "file_extension": ".py",
   "mimetype": "text/x-python",
   "name": "python",
   "nbconvert_exporter": "python",
   "pygments_lexer": "ipython3",
   "version": "3.7.9-final"
  },
  "orig_nbformat": 2,
  "kernelspec": {
   "name": "python3",
   "display_name": "Python 3",
   "language": "python"
  }
 },
 "nbformat": 4,
 "nbformat_minor": 2,
 "cells": [
  {
   "cell_type": "code",
   "execution_count": 1,
   "metadata": {},
   "outputs": [],
   "source": [
    "import pandas as pd\n",
    "import numpy as np\n",
    "import matplotlib.pyplot as plt"
   ]
  },
  {
   "cell_type": "code",
   "execution_count": 135,
   "metadata": {},
   "outputs": [
    {
     "output_type": "execute_result",
     "data": {
      "text/plain": [
       "                Date/Time  10  Tamb(K)  Rh(%)  Pres(mb)  Tir(K) Rain  Azim  \\\n",
       "Record                                                                       \n",
       "1       05/01/09 12:15:17  11   283.52  42.43     799.9   276.4    N   0.0   \n",
       "2       05/01/09 12:16:19  11   283.85  45.55     799.7   278.3    N   0.0   \n",
       "3       05/01/09 12:17:19  11   283.41  43.37     799.8   276.4    N   0.0   \n",
       "4       05/01/09 12:18:19  11   283.34  44.54     799.7   275.2    N   0.0   \n",
       "5       05/01/09 12:19:19  11   283.61  44.65     799.7   277.5    N   0.0   \n",
       "\n",
       "        Elev  TkBB(K)  ...   23.835   26.235   30.000   51.250   52.280  \\\n",
       "Record                 ...                                                \n",
       "1       90.0   289.47  ...    14.34     1.94     6.37    72.16   105.03   \n",
       "2       90.0   289.63  ...    13.12     2.62     6.78    73.44   106.53   \n",
       "3       90.0   289.78  ...    12.96     2.08     5.31    71.91   106.91   \n",
       "4       90.0   289.92  ...    13.05     2.19     6.39    72.95   105.83   \n",
       "5       90.0   290.06  ...    13.10     1.52     5.54    71.97   105.91   \n",
       "\n",
       "         53.850   54.940   56.660   57.290   58.800  \n",
       "Record                                               \n",
       "1        213.84   265.07   275.33   276.52   277.09  \n",
       "2        214.13   265.17   275.37   276.21   277.30  \n",
       "3        214.10   265.37   275.54   276.15   276.97  \n",
       "4        213.70   264.90   275.45   276.45   276.80  \n",
       "5        213.93   264.02   274.88   275.97   276.78  \n",
       "\n",
       "[5 rows x 22 columns]"
      ],
      "text/html": "<div>\n<style scoped>\n    .dataframe tbody tr th:only-of-type {\n        vertical-align: middle;\n    }\n\n    .dataframe tbody tr th {\n        vertical-align: top;\n    }\n\n    .dataframe thead th {\n        text-align: right;\n    }\n</style>\n<table border=\"1\" class=\"dataframe\">\n  <thead>\n    <tr style=\"text-align: right;\">\n      <th></th>\n      <th>Date/Time</th>\n      <th>10</th>\n      <th>Tamb(K)</th>\n      <th>Rh(%)</th>\n      <th>Pres(mb)</th>\n      <th>Tir(K)</th>\n      <th>Rain</th>\n      <th>Azim</th>\n      <th>Elev</th>\n      <th>TkBB(K)</th>\n      <th>...</th>\n      <th>23.835</th>\n      <th>26.235</th>\n      <th>30.000</th>\n      <th>51.250</th>\n      <th>52.280</th>\n      <th>53.850</th>\n      <th>54.940</th>\n      <th>56.660</th>\n      <th>57.290</th>\n      <th>58.800</th>\n    </tr>\n    <tr>\n      <th>Record</th>\n      <th></th>\n      <th></th>\n      <th></th>\n      <th></th>\n      <th></th>\n      <th></th>\n      <th></th>\n      <th></th>\n      <th></th>\n      <th></th>\n      <th></th>\n      <th></th>\n      <th></th>\n      <th></th>\n      <th></th>\n      <th></th>\n      <th></th>\n      <th></th>\n      <th></th>\n      <th></th>\n      <th></th>\n    </tr>\n  </thead>\n  <tbody>\n    <tr>\n      <th>1</th>\n      <td>05/01/09 12:15:17</td>\n      <td>11</td>\n      <td>283.52</td>\n      <td>42.43</td>\n      <td>799.9</td>\n      <td>276.4</td>\n      <td>N</td>\n      <td>0.0</td>\n      <td>90.0</td>\n      <td>289.47</td>\n      <td>...</td>\n      <td>14.34</td>\n      <td>1.94</td>\n      <td>6.37</td>\n      <td>72.16</td>\n      <td>105.03</td>\n      <td>213.84</td>\n      <td>265.07</td>\n      <td>275.33</td>\n      <td>276.52</td>\n      <td>277.09</td>\n    </tr>\n    <tr>\n      <th>2</th>\n      <td>05/01/09 12:16:19</td>\n      <td>11</td>\n      <td>283.85</td>\n      <td>45.55</td>\n      <td>799.7</td>\n      <td>278.3</td>\n      <td>N</td>\n      <td>0.0</td>\n      <td>90.0</td>\n      <td>289.63</td>\n      <td>...</td>\n      <td>13.12</td>\n      <td>2.62</td>\n      <td>6.78</td>\n      <td>73.44</td>\n      <td>106.53</td>\n      <td>214.13</td>\n      <td>265.17</td>\n      <td>275.37</td>\n      <td>276.21</td>\n      <td>277.30</td>\n    </tr>\n    <tr>\n      <th>3</th>\n      <td>05/01/09 12:17:19</td>\n      <td>11</td>\n      <td>283.41</td>\n      <td>43.37</td>\n      <td>799.8</td>\n      <td>276.4</td>\n      <td>N</td>\n      <td>0.0</td>\n      <td>90.0</td>\n      <td>289.78</td>\n      <td>...</td>\n      <td>12.96</td>\n      <td>2.08</td>\n      <td>5.31</td>\n      <td>71.91</td>\n      <td>106.91</td>\n      <td>214.10</td>\n      <td>265.37</td>\n      <td>275.54</td>\n      <td>276.15</td>\n      <td>276.97</td>\n    </tr>\n    <tr>\n      <th>4</th>\n      <td>05/01/09 12:18:19</td>\n      <td>11</td>\n      <td>283.34</td>\n      <td>44.54</td>\n      <td>799.7</td>\n      <td>275.2</td>\n      <td>N</td>\n      <td>0.0</td>\n      <td>90.0</td>\n      <td>289.92</td>\n      <td>...</td>\n      <td>13.05</td>\n      <td>2.19</td>\n      <td>6.39</td>\n      <td>72.95</td>\n      <td>105.83</td>\n      <td>213.70</td>\n      <td>264.90</td>\n      <td>275.45</td>\n      <td>276.45</td>\n      <td>276.80</td>\n    </tr>\n    <tr>\n      <th>5</th>\n      <td>05/01/09 12:19:19</td>\n      <td>11</td>\n      <td>283.61</td>\n      <td>44.65</td>\n      <td>799.7</td>\n      <td>277.5</td>\n      <td>N</td>\n      <td>0.0</td>\n      <td>90.0</td>\n      <td>290.06</td>\n      <td>...</td>\n      <td>13.10</td>\n      <td>1.52</td>\n      <td>5.54</td>\n      <td>71.97</td>\n      <td>105.91</td>\n      <td>213.93</td>\n      <td>264.02</td>\n      <td>274.88</td>\n      <td>275.97</td>\n      <td>276.78</td>\n    </tr>\n  </tbody>\n</table>\n<p>5 rows × 22 columns</p>\n</div>"
     },
     "metadata": {},
     "execution_count": 135
    }
   ],
   "source": [
    "lv1_08 = pd.read_csv(r'I:\\Data\\Personal Data\\graduation project\\SACOL\\microwave\\2009\\200905\\2009-05-01_12-13-20_lv1.csv',index_col='Record',)\n",
    "lv1_08.drop(['Unnamed: 23'],axis=1,inplace=True)\n",
    "lv1_08.head(5)"
   ]
  },
  {
   "cell_type": "code",
   "execution_count": 136,
   "metadata": {},
   "outputs": [],
   "source": [
    "for col in lv1_08.columns[10:]:\n",
    "    n = 31\n",
    "    y = np.convolve(lv1_08[col],np.ones((n,))/n,mode='full')\n",
    "    y[:n-1] = np.nan\n",
    "    lv1_08[col] = y[:-(n-1)]"
   ]
  }
 ]
}