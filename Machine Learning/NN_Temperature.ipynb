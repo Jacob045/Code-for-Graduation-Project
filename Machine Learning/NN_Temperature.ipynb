{
 "metadata": {
  "language_info": {
   "codemirror_mode": {
    "name": "ipython",
    "version": 3
   },
   "file_extension": ".py",
   "mimetype": "text/x-python",
   "name": "python",
   "nbconvert_exporter": "python",
   "pygments_lexer": "ipython3",
   "version": "3.7.10"
  },
  "orig_nbformat": 2,
  "kernelspec": {
   "name": "python3",
   "language": "python",
   "display_name": "Python 3"
  }
 },
 "nbformat": 4,
 "nbformat_minor": 2,
 "cells": [
  {
   "cell_type": "code",
   "execution_count": 1,
   "metadata": {},
   "outputs": [
    {
     "name": "stdout",
     "output_type": "stream",
     "text": [
      "2.4.1\n"
     ]
    }
   ],
   "source": [
    "import os\n",
    "import matplotlib.pyplot as plt\n",
    "import pandas as pd\n",
    "import numpy as np\n",
    "\n",
    "import tensorflow as tf\n",
    "\n",
    "from tensorflow import keras\n",
    "from tensorflow.keras import layers\n",
    "\n",
    "print(tf.__version__)"
   ]
  },
  {
   "cell_type": "code",
   "execution_count": 2,
   "metadata": {},
   "outputs": [
    {
     "name": "stdout",
     "output_type": "stream",
     "text": [
      "(365, 68)\n",
      "(365, 68)\n"
     ]
    }
   ],
   "source": [
    "# 08时数据\n",
    "lv1_08 = pd.read_csv(r'I:\\Data\\Personal Data\\graduation project\\Code\\Machine Learning\\basicdata\\2007_lv1_08.csv',index_col='Unnamed: 0')\n",
    "Temperature_08 = pd.read_csv(r'I:\\Data\\Personal Data\\graduation project\\Code\\Machine Learning\\basicdata\\2007_Temperature_08.csv',index_col='Unnamed: 0')\n",
    "merge_dataset =pd.merge(lv1_08,Temperature_08,on=lv1_08.index)\n",
    "merge_dataset.drop('key_0',axis=1,inplace=True)\n",
    "print(merge_dataset.shape)\n",
    "\n",
    "# 20时数据\n",
    "lv1_08 = pd.read_csv(r'I:\\Data\\Personal Data\\graduation project\\Code\\Machine Learning\\basicdata\\2007_lv1_20.csv',index_col='Unnamed: 0')\n",
    "Temperature_08 = pd.read_csv(r'I:\\Data\\Personal Data\\graduation project\\Code\\Machine Learning\\basicdata\\2007_Temperature_20.csv',index_col='Unnamed: 0')\n",
    "merge_dataset1 =pd.merge(lv1_08,Temperature_08,on=lv1_08.index)\n",
    "merge_dataset1.drop('key_0',axis=1,inplace=True)\n",
    "print(merge_dataset1.shape)\n",
    "# 连接\n",
    "merge_dataset = merge_dataset.append(merge_dataset1)\n",
    "\n",
    "# 将'Rain'列转换为离散数值\n",
    "merge_dataset['Rain'] = pd.Categorical(merge_dataset['Rain'])\n",
    "merge_dataset['Rain'] = merge_dataset.Rain.cat.codes\n",
    "\n",
    "# 去除空数据\n",
    "merge_dataset[merge_dataset<-1000] = np.nan\n",
    "merge_dataset.dropna(inplace=True)\n",
    "\n",
    "# 去除['10','Azim', 'Elev']几列\n",
    "# 温度训练\n",
    "merge_dataset.drop(['10','Rain', 'TkBB(K)','Rh(%)', 'Pres(mb)', 'Tir(K)', 'Azim', 'Elev',' 22.235', ' 23.035', ' 23.835', ' 26.235', ' 30.000'],axis=1,inplace=True)"
   ]
  },
  {
   "cell_type": "code",
   "execution_count": 3,
   "metadata": {},
   "outputs": [],
   "source": [
    "merge_dataset = merge_dataset.round(1)"
   ]
  },
  {
   "cell_type": "code",
   "execution_count": 4,
   "metadata": {},
   "outputs": [
    {
     "data": {
      "text/plain": "Index(['Tamb(K)', ' 51.250', ' 52.280', ' 53.850', ' 54.940', ' 56.660',\n       ' 57.290', ' 58.800', '0.00', '0.10', '0.20', '0.30', '0.40', '0.50',\n       '0.60', '0.70', '0.80', '0.90', '1.00', '1.25', '1.50', '1.75', '2.00',\n       '2.25', '2.50', '2.75', '3.00', '3.25', '3.50', '3.75', '4.00', '4.25',\n       '4.50', '4.75', '5.00', '5.25', '5.50', '5.75', '6.00', '6.25', '6.50',\n       '6.75', '7.00', '7.25', '7.50', '7.75', '8.00', '8.25', '8.50', '8.75',\n       '9.00', '9.25', '9.50', '9.75', '10.00'],\n      dtype='object')"
     },
     "execution_count": 4,
     "metadata": {},
     "output_type": "execute_result"
    }
   ],
   "source": [
    "# input:18\n",
    "# output:47\n",
    "merge_dataset.columns"
   ]
  },
  {
   "cell_type": "code",
   "execution_count": 5,
   "metadata": {},
   "outputs": [],
   "source": [
    "# 归一化\n",
    "def norm(x):\n",
    "  return (x - merge_dataset.describe().transpose()['mean']) / merge_dataset.describe().transpose()['std']\n",
    "\n",
    "merge_dataset.iloc[:,:8] = norm(merge_dataset).iloc[:,:8]"
   ]
  },
  {
   "cell_type": "code",
   "execution_count": 6,
   "metadata": {},
   "outputs": [
    {
     "name": "stdout",
     "output_type": "stream",
     "text": [
      "(257, 8) (20, 8) (257, 47) (20, 47)\n"
     ]
    },
    {
     "name": "stderr",
     "output_type": "stream",
     "text": [
      "D:\\Anaconda\\envs\\tf\\lib\\site-packages\\pandas\\core\\frame.py:4315: SettingWithCopyWarning: \n",
      "A value is trying to be set on a copy of a slice from a DataFrame\n",
      "\n",
      "See the caveats in the documentation: https://pandas.pydata.org/pandas-docs/stable/user_guide/indexing.html#returning-a-view-versus-a-copy\n",
      "  errors=errors,\n"
     ]
    }
   ],
   "source": [
    "# 乱序，分离训练数据与测试数据\n",
    "train_data = merge_dataset.sample(frac=0.8,random_state=0)\n",
    "test_data = merge_dataset.drop(train_data.index)\n",
    "# 分离标签\n",
    "train_labels = train_data.iloc[:,8:]\n",
    "test_labels = test_data.iloc[:,8:]\n",
    "train_data.drop(train_labels.columns,axis=1,inplace=True)\n",
    "test_data.drop(train_labels.columns,axis=1,inplace=True)\n",
    "\n",
    "print(train_data.shape,test_data.shape,train_labels.shape,test_labels.shape)"
   ]
  },
  {
   "cell_type": "code",
   "execution_count": 7,
   "metadata": {},
   "outputs": [],
   "source": [
    "def build_model():\n",
    "  model = keras.Sequential([\n",
    "    layers.Dense(len(train_data.keys()), activation='relu', input_shape=[len(train_data.keys())]),\n",
    "    layers.Dense(23, activation='relu'),\n",
    "    layers.Dense(47)\n",
    "  ])\n",
    "\n",
    "  opt = tf.keras.optimizers.RMSprop(0.001)\n",
    "  # tf.train.GradientDescentOptimizer(0.001)\n",
    "  # tf.keras.optimizers.RMSprop(0.001)\n",
    "  # tf.optimizers.Adam(1e-3)\n",
    "\n",
    "  model.compile(loss='mse', #损失函数\n",
    "                optimizer=opt, # 优化器\n",
    "                metrics=['mae', 'mse'] # 性能评估指标\n",
    "                )\n",
    "  return model"
   ]
  },
  {
   "cell_type": "code",
   "execution_count": 8,
   "metadata": {},
   "outputs": [
    {
     "name": "stdout",
     "output_type": "stream",
     "text": [
      "Model: \"sequential\"\n",
      "_________________________________________________________________\n",
      "Layer (type)                 Output Shape              Param #   \n",
      "=================================================================\n",
      "dense (Dense)                (None, 8)                 72        \n",
      "_________________________________________________________________\n",
      "dense_1 (Dense)              (None, 23)                207       \n",
      "_________________________________________________________________\n",
      "dense_2 (Dense)              (None, 47)                1128      \n",
      "=================================================================\n",
      "Total params: 1,407\n",
      "Trainable params: 1,407\n",
      "Non-trainable params: 0\n",
      "_________________________________________________________________\n"
     ]
    }
   ],
   "source": [
    "model = build_model()\n",
    "model.summary()"
   ]
  },
  {
   "cell_type": "code",
   "execution_count": 9,
   "metadata": {},
   "outputs": [],
   "source": [
    "history = model.fit(train_data,\n",
    "                    train_labels,\n",
    "                    batch_size=32,\n",
    "                    epochs=1500, \n",
    "                    verbose=0,\n",
    "                    validation_split = 0.2)"
   ]
  },
  {
   "cell_type": "code",
   "execution_count": 10,
   "metadata": {},
   "outputs": [
    {
     "data": {
      "text/plain": "          loss       mae       mse  val_loss   val_mae   val_mse  epoch\n1495  5.520196  1.786610  5.520196  6.266629  1.850449  6.266629   1495\n1496  5.817475  1.847359  5.817475  6.797326  1.900242  6.797326   1496\n1497  5.455608  1.755084  5.455608  7.100876  1.937432  7.100876   1497\n1498  5.547334  1.795008  5.547334  5.907738  1.751725  5.907738   1498\n1499  5.543720  1.787695  5.543720  6.995959  1.931820  6.995960   1499",
      "text/html": "<div>\n<style scoped>\n    .dataframe tbody tr th:only-of-type {\n        vertical-align: middle;\n    }\n\n    .dataframe tbody tr th {\n        vertical-align: top;\n    }\n\n    .dataframe thead th {\n        text-align: right;\n    }\n</style>\n<table border=\"1\" class=\"dataframe\">\n  <thead>\n    <tr style=\"text-align: right;\">\n      <th></th>\n      <th>loss</th>\n      <th>mae</th>\n      <th>mse</th>\n      <th>val_loss</th>\n      <th>val_mae</th>\n      <th>val_mse</th>\n      <th>epoch</th>\n    </tr>\n  </thead>\n  <tbody>\n    <tr>\n      <th>1495</th>\n      <td>5.520196</td>\n      <td>1.786610</td>\n      <td>5.520196</td>\n      <td>6.266629</td>\n      <td>1.850449</td>\n      <td>6.266629</td>\n      <td>1495</td>\n    </tr>\n    <tr>\n      <th>1496</th>\n      <td>5.817475</td>\n      <td>1.847359</td>\n      <td>5.817475</td>\n      <td>6.797326</td>\n      <td>1.900242</td>\n      <td>6.797326</td>\n      <td>1496</td>\n    </tr>\n    <tr>\n      <th>1497</th>\n      <td>5.455608</td>\n      <td>1.755084</td>\n      <td>5.455608</td>\n      <td>7.100876</td>\n      <td>1.937432</td>\n      <td>7.100876</td>\n      <td>1497</td>\n    </tr>\n    <tr>\n      <th>1498</th>\n      <td>5.547334</td>\n      <td>1.795008</td>\n      <td>5.547334</td>\n      <td>5.907738</td>\n      <td>1.751725</td>\n      <td>5.907738</td>\n      <td>1498</td>\n    </tr>\n    <tr>\n      <th>1499</th>\n      <td>5.543720</td>\n      <td>1.787695</td>\n      <td>5.543720</td>\n      <td>6.995959</td>\n      <td>1.931820</td>\n      <td>6.995960</td>\n      <td>1499</td>\n    </tr>\n  </tbody>\n</table>\n</div>"
     },
     "execution_count": 10,
     "metadata": {},
     "output_type": "execute_result"
    }
   ],
   "source": [
    "hist = pd.DataFrame(history.history)\n",
    "hist['epoch'] = history.epoch\n",
    "hist.tail()"
   ]
  },
  {
   "cell_type": "code",
   "execution_count": 11,
   "metadata": {},
   "outputs": [
    {
     "data": {
      "text/plain": "<Figure size 432x288 with 1 Axes>",
      "image/png": "[encoded data removed]"
     },
     "metadata": {
      "needs_background": "light"
     },
     "output_type": "display_data"
    },
    {
     "data": {
      "text/plain": "<Figure size 432x288 with 1 Axes>",
      "image/png": "[encoded data removed]"
     },
     "metadata": {
      "needs_background": "light"
     },
     "output_type": "display_data"
    }
   ],
   "source": [
    "def plot_history(history):\n",
    "  hist = pd.DataFrame(history.history)\n",
    "  hist['epoch'] = history.epoch\n",
    "\n",
    "  plt.figure()\n",
    "  plt.xlabel('Epoch')\n",
    "  plt.ylabel('Mean Abs Error')\n",
    "  plt.plot(hist['epoch'], hist['mae'],\n",
    "           label='Train Error')\n",
    "  plt.plot(hist['epoch'], hist['val_mae'],\n",
    "           label = 'Val Error')\n",
    "  plt.ylim([0,10])\n",
    "  plt.legend()\n",
    "\n",
    "  plt.figure()\n",
    "  plt.xlabel('Epoch')\n",
    "  plt.ylabel('Mean Square Error')\n",
    "  plt.plot(hist['epoch'], hist['mse'],\n",
    "           label='Train Error')\n",
    "  plt.plot(hist['epoch'], hist['val_mse'],\n",
    "           label = 'Val Error')\n",
    "  plt.ylim([0,70])\n",
    "  plt.legend()\n",
    "  plt.show()\n",
    "\n",
    "\n",
    "plot_history(history)"
   ]
  },
  {
   "cell_type": "code",
   "execution_count": 12,
   "metadata": {},
   "outputs": [
    {
     "name": "stdout",
     "output_type": "stream",
     "text": [
      "1/1 [==============================] - 0s 33ms/step - loss: 5.7158 - mae: 1.8020 - mse: 5.7158\b\b\b\b\b\b\b\b\b\b\b\b\b\b\b\b\b\b\b\b\b\b\b\b\b\b\b\b\b\b\b\b\b\b\b\b\b\b\b\b\b\b\b\b\b\b\b\b\b\b\b\b\b\b\b\b\b\b\b\b\b\b\b\b\b\b\b\b\b\b\b\b\b\b\b\b\b\b\b\b\b\b\b\b\n",
      "MAE:  1.80 \n",
      "MSE:  5.72 \n",
      "LOSS:  5.72 \n"
     ]
    }
   ],
   "source": [
    "loss, mae, mse = model.evaluate(test_data, test_labels, verbose=1)\n",
    "\n",
    "print(\"MAE: {:5.2f} \".format(mae))\n",
    "print(\"MSE: {:5.2f} \".format(mse))\n",
    "print(\"LOSS: {:5.2f} \".format(loss))"
   ]
  },
  {
   "cell_type": "code",
   "execution_count": 13,
   "outputs": [
    {
     "name": "stdout",
     "output_type": "stream",
     "text": [
      "1/1 - 0s\n"
     ]
    },
    {
     "data": {
      "text/plain": "array([[273.2172 , 272.33017, 271.82913, 271.11545, 270.23517, 269.6715 ,\n        268.78647, 268.2443 , 267.50888, 266.5983 , 265.96213, 264.18414,\n        262.8446 , 260.99472, 259.42593, 257.65622, 255.8656 , 254.44824,\n        252.47849, 250.95932, 249.26367, 247.12039, 245.22743, 243.47958,\n        241.62447, 239.92035, 238.38441, 236.55676, 235.22943, 233.78134,\n        232.43182, 231.31693, 229.82816, 228.27356, 227.31013, 225.62001,\n        224.30748, 223.38515, 222.46402, 221.24506, 220.3175 , 219.49712,\n        218.3489 , 217.53827, 216.12863, 214.84433, 213.89952],\n       [274.02496, 273.72943, 273.21088, 272.76434, 272.40668, 271.87857,\n        271.5115 , 270.97083, 270.5679 , 270.26584, 269.61578, 268.17178,\n        266.47397, 265.05225, 263.55002, 262.11743, 260.7152 , 259.11578,\n        257.55203, 255.69048, 254.00494, 252.48056, 250.80904, 249.03012,\n        247.23283, 245.57355, 243.72978, 242.10829, 240.1534 , 238.35088,\n        236.46663, 234.5257 , 232.88197, 231.22739, 229.17178, 227.40356,\n        225.45892, 223.61404, 221.91779, 220.36435, 218.6887 , 216.91403,\n        215.29921, 213.43123, 211.9702 , 210.78693, 209.46373],\n       [270.1251 , 269.28793, 268.8342 , 268.109  , 267.362  , 266.8434 ,\n        265.97968, 265.4411 , 264.7665 , 263.88705, 263.22437, 261.44775,\n        259.9588 , 258.14542, 256.54102, 254.70102, 252.95628, 251.43346,\n        249.53662, 247.9476 , 246.2413 , 244.19144, 242.35973, 240.5003 ,\n        238.73457, 237.13744, 235.58293, 233.94432, 232.6208 , 231.2296 ,\n        230.0167 , 228.9168 , 227.6568 , 226.26355, 225.30865, 223.84354,\n        222.59512, 221.66747, 220.788  , 219.63605, 218.7746 , 217.99625,\n        216.8061 , 215.998  , 214.70558, 213.53604, 212.60059],\n       [274.17532, 273.67496, 273.15012, 272.57797, 272.13336, 271.59705,\n        271.08505, 270.51944, 269.9902 , 269.48514, 268.83456, 267.27567,\n        265.59726, 264.09503, 262.56027, 260.998  , 259.52283, 257.87122,\n        256.23706, 254.44531, 252.69589, 251.06465, 249.3698 , 247.4783 ,\n        245.70781, 244.00275, 242.2671 , 240.67325, 238.9017 , 237.20558,\n        235.57883, 233.89493, 232.4114 , 230.89713, 229.1691 , 227.59753,\n        225.88431, 224.36449, 222.96292, 221.61325, 220.2324 , 218.80743,\n        217.37099, 215.87187, 214.5295 , 213.36763, 212.09917],\n       [277.64133, 276.972  , 276.4165 , 275.79816, 275.16345, 274.59744,\n        273.963  , 273.39688, 272.77774, 272.1439 , 271.56265, 270.02078,\n        268.5972 , 267.07816, 265.6329 , 264.13257, 262.63123, 261.13367,\n        259.4133 , 257.75476, 256.04114, 254.24153, 252.48686, 250.66705,\n        248.8076 , 246.96635, 245.22273, 243.3663 , 241.62102, 239.77737,\n        238.01051, 236.29755, 234.49223, 232.65361, 230.93248, 229.02545,\n        227.21368, 225.70378, 224.2771 , 222.79135, 221.35483, 219.95427,\n        218.46574, 217.04555, 215.49792, 214.16216, 212.89215],\n       [278.80304, 277.9704 , 277.71817, 277.14703, 276.41208, 276.09537,\n        275.29916, 274.91827, 274.377  , 273.5085 , 272.96936, 271.08548,\n        269.78497, 267.90933, 266.36285, 264.47736, 262.6591 , 261.2032 ,\n        259.15723, 257.80487, 256.05048, 253.81956, 251.89714, 250.15508,\n        248.36414, 246.73766, 245.19305, 243.17265, 241.74953, 240.18083,\n        238.62637, 237.16531, 235.29318, 233.26457, 231.97887, 229.78207,\n        227.9543 , 226.5428 , 225.11359, 223.27124, 221.82198, 220.46988,\n        218.62523, 217.30876, 215.53093, 214.21211, 213.37785],\n       [268.9716 , 268.82733, 268.27618, 268.0045 , 267.56012, 267.013  ,\n        266.76328, 266.27307, 265.91653, 265.6941 , 264.98862, 263.4194 ,\n        261.69162, 260.06793, 258.42108, 256.9716 , 255.36942, 253.83762,\n        252.17856, 250.32487, 248.67325, 247.06816, 245.29247, 243.80675,\n        241.97478, 240.4587 , 238.7823 , 237.1506 , 235.36615, 233.87361,\n        232.02731, 230.3815 , 228.85585, 227.44048, 225.70708, 223.97435,\n        222.2673 , 220.58461, 218.97507, 217.5262 , 215.90567, 214.14276,\n        212.78476, 210.96027, 209.60838, 208.50421, 207.38635],\n       [272.1411 , 271.6278 , 271.07074, 270.52844, 270.0596 , 269.53802,\n        269.0672 , 268.523  , 267.96063, 267.44016, 266.8403 , 265.27765,\n        263.6618 , 262.20596, 260.69064, 259.20236, 257.74268, 256.11896,\n        254.4939 , 252.77124, 251.01099, 249.40974, 247.71255, 245.88197,\n        244.11942, 242.33842, 240.6899 , 238.99786, 237.27419, 235.55412,\n        233.89268, 232.19931, 230.58832, 229.03975, 227.2904 , 225.65111,\n        223.91954, 222.39198, 220.96072, 219.61278, 218.15741, 216.69041,\n        215.28064, 213.7796 , 212.41998, 211.24466, 209.95671],\n       [271.0729 , 270.2008 , 269.69397, 269.00195, 268.11508, 267.55338,\n        266.6735 , 266.14215, 265.41846, 264.4764 , 263.8018 , 261.93765,\n        260.5055 , 258.56458, 256.885  , 255.03163, 253.14804, 251.68945,\n        249.69777, 248.13655, 246.43713, 244.26149, 242.33679, 240.60825,\n        238.78035, 237.1778 , 235.7125 , 233.97212, 232.7776 , 231.49834,\n        230.30443, 229.40088, 228.1267 , 226.78607, 226.06151, 224.55298,\n        223.46397, 222.69913, 221.92313, 220.85243, 220.06956, 219.3979 ,\n        218.37827, 217.71545, 216.44609, 215.25137, 214.41127],\n       [255.79572, 255.6308 , 255.08777, 254.75732, 254.53877, 254.0359 ,\n        253.867  , 253.37361, 252.9568 , 252.51888, 251.62321, 249.60019,\n        247.1818 , 245.25836, 243.09421, 241.14273, 239.24237, 237.19014,\n        235.56718, 233.47372, 231.60843, 230.11505, 228.3594 , 226.57224,\n        225.05202, 223.94107, 222.71127, 221.82338, 220.69298, 220.06918,\n        219.36255, 218.76398, 218.62862, 218.66333, 218.06258, 217.8378 ,\n        217.28712, 216.56558, 215.88501, 215.48538, 214.80052, 213.98386,\n        213.37488, 212.43082, 212.0668 , 211.60635, 210.824  ]],\n      dtype=float32)"
     },
     "execution_count": 13,
     "metadata": {},
     "output_type": "execute_result"
    }
   ],
   "source": [
    "example_result = model.predict(train_data[:10],\n",
    "                                verbose=2)\n",
    "example_result"
   ],
   "metadata": {
    "collapsed": false,
    "pycharm": {
     "name": "#%%\n"
    }
   }
  }
 ]
}