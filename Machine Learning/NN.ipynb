{
 "metadata": {
  "language_info": {
   "codemirror_mode": {
    "name": "ipython",
    "version": 3
   },
   "file_extension": ".py",
   "mimetype": "text/x-python",
   "name": "python",
   "nbconvert_exporter": "python",
   "pygments_lexer": "ipython3",
   "version": "3.7.9-final"
  },
  "orig_nbformat": 2,
  "kernelspec": {
   "name": "python3",
   "display_name": "Python 3.7.9 64-bit ('tf': conda)",
   "metadata": {
    "interpreter": {
     "hash": "06b4f7c561f76ad499c5882876df75324df0d287869e55b80005d36e4919f42b"
    }
   }
  }
 },
 "nbformat": 4,
 "nbformat_minor": 2,
 "cells": [
  {
   "source": [
    "### 数据处理说明\n",
    "#### 数据来源：2009年微波辐射计亮温数据和探空数据\n",
    "\n",
    "文件路径中读取日期并转换格式：filepath[69:79].replace('-','/')"
   ],
   "cell_type": "markdown",
   "metadata": {}
  },
  {
   "cell_type": "code",
   "execution_count": 17,
   "metadata": {},
   "outputs": [],
   "source": [
    "import pandas as pd\n",
    "import os\n",
    "# 自定义函数\n",
    "import search_filepth_module"
   ]
  },
  {
   "cell_type": "code",
   "execution_count": 18,
   "metadata": {},
   "outputs": [],
   "source": [
    "Year = '2009'"
   ]
  },
  {
   "cell_type": "code",
   "execution_count": null,
   "metadata": {},
   "outputs": [],
   "source": [
    "microwave_dirpath = r'I:\\Data\\Personal Data\\graduation project\\SACOL\\microwave\\'+Year\n",
    "microwave_target_str = 'lv1'\n",
    "microwave_filepaths = search_filepth_module.search_filepath(microwave_dirpath,microwave_target_str)"
   ]
  },
  {
   "cell_type": "code",
   "execution_count": null,
   "metadata": {},
   "outputs": [],
   "source": [
    "statistics = pd.DataFrame(columns=['Date','lv1_08','lv1_20'])\n",
    "\n",
    "for microwave_filepath in microwave_filepaths:\n",
    "    lv1_data = pd.read_csv(microwave_filepath,index_col='Record')\n",
    "    # lv1_data.drop(['Unnamed: 23'],axis=1,inplace=True)\n",
    "    print(microwave_filepath)\n",
    "    print(microwave_filepath[69:79].replace('-','/'),lv1_data.shape)\n",
    "\n",
    "    num_08 = 0\n",
    "    num_20 = 0\n",
    "    for i in lv1_data['Date/Time']:\n",
    "        if((i[9:14] >= '08:00') and (i[9:14] <= '08:30')):\n",
    "            num_08 += 1\n",
    "        if((i[9:14] >= '20:00') and (i[9:14] <= '20:30')):\n",
    "            num_20 += 1\n",
    "    \n",
    "    new = {'Date':microwave_filepath[69:79].replace('-','/'),'lv1_08':num_08,'lv1_20':num_20}\n",
    "    statistics =statistics.append(new,ignore_index=True)"
   ]
  },
  {
   "cell_type": "code",
   "execution_count": 38,
   "metadata": {},
   "outputs": [],
   "source": [
    "Wyoming_dirpath = r'I:\\Data\\Personal Data\\graduation project\\yuzhongzhan\\FSL1'\n",
    "Wyoming_target_str = Year\n",
    "Wyoming_filepaths = []\n",
    "for root,dirs,files in os.walk(Wyoming_dirpath):\n",
    "    for file in files:\n",
    "        # print(file[30:34])\n",
    "        if(Wyoming_target_str == file[30:34]):\n",
    "            Wyoming_filepath = os.path.join(root,file)\n",
    "            Wyoming_filepaths.append(Wyoming_filepath)"
   ]
  },
  {
   "cell_type": "code",
   "execution_count": 34,
   "metadata": {},
   "outputs": [
    {
     "output_type": "execute_result",
     "data": {
      "text/plain": [
       "        Press  Altitude  Temperature  Relative_humidity     NaN1     NaN2  \\\n",
       "0   553.58502       0.0    254.99678           77.53760 -9999.99 -9999.99   \n",
       "1   546.22186     100.0    254.58287           78.46770 -9999.99 -9999.99   \n",
       "2   538.94153     200.0    254.16812           79.39978 -9999.99 -9999.99   \n",
       "3   531.74274     300.0    253.75252           80.33389 -9999.99 -9999.99   \n",
       "4   524.62506     400.0    253.33598           81.26997 -9999.99 -9999.99   \n",
       "5   517.58765     500.0    252.91852           82.20806 -9999.99 -9999.99   \n",
       "6   510.62952     600.0    252.50023           83.14824 -9999.99 -9999.99   \n",
       "7   503.75031     700.0    252.08099           84.09042 -9999.99 -9999.99   \n",
       "8   496.96423     800.0    251.53888           83.96310 -9999.99 -9999.99   \n",
       "9   490.27328     900.0    250.84637           82.52438 -9999.99 -9999.99   \n",
       "10  483.65793    1000.0    250.15236           81.08248 -9999.99 -9999.99   \n",
       "11  467.44632    1250.0    248.41054           77.46384 -9999.99 -9999.99   \n",
       "12  451.69238    1500.0    246.65915           73.82510 -9999.99 -9999.99   \n",
       "13  436.38489    1750.0    244.89775           70.16577 -9999.99 -9999.99   \n",
       "14  421.51331    2000.0    243.12634           66.48560 -9999.99 -9999.99   \n",
       "15  407.06683    2250.0    241.34477           62.78415 -9999.99 -9999.99   \n",
       "16  392.85428    2500.0    239.37221           60.19153 -9999.99 -9999.99   \n",
       "17  378.88165    2750.0    237.20706           58.71732 -9999.99 -9999.99   \n",
       "18  365.32465    3000.0    235.02849           57.23401 -9999.99 -9999.99   \n",
       "19  352.17294    3250.0    232.83641           55.74149 -9999.99 -9999.99   \n",
       "20  339.41638    3500.0    230.63055           54.23959 -9999.99 -9999.99   \n",
       "21  327.04498    3750.0    228.41063           52.72811 -9999.99 -9999.99   \n",
       "22  315.04910    4000.0    226.17638           51.20687 -9999.99 -9999.99   \n",
       "23  303.41913    4250.0    223.92752           49.67571 -9999.99 -9999.99   \n",
       "24  292.00632    4500.0    221.98233           48.27602 -9999.99 -9999.99   \n",
       "25  280.89191    4750.0    220.16100           46.92772 -9999.99 -9999.99   \n",
       "26  270.12790    5000.0    218.32698           45.57008 -9999.99 -9999.99   \n",
       "27  259.74503    5250.0    218.83115           43.57453 -9999.99 -9999.99   \n",
       "28  249.81293    5500.0    222.65266           40.76914 -9999.99 -9999.99   \n",
       "29  240.60147    5750.0    222.78740           38.94541 -9999.99 -9999.99   \n",
       "30  231.66966    6000.0    222.92302           37.10910 -9999.99 -9999.99   \n",
       "31  223.01030    6250.0    223.05956           35.25993 -9999.99 -9999.99   \n",
       "32  214.61668    6500.0    223.19713           33.39766 -9999.99 -9999.99   \n",
       "33  206.48196    6750.0    223.33566           31.52198 -9999.99 -9999.99   \n",
       "34  198.64223    7000.0    223.29367           29.86562 -9999.99 -9999.99   \n",
       "35  191.23433    7250.0    222.42178           29.26262 -9999.99 -9999.99   \n",
       "36  184.05177    7500.0    221.54349           28.65521 -9999.99 -9999.99   \n",
       "37  177.08875    7750.0    220.65868           28.04331 -9999.99 -9999.99   \n",
       "38  170.33990    8000.0    219.76732           27.42683 -9999.99 -9999.99   \n",
       "39  163.79976    8250.0    218.86905           26.80564 -9999.99 -9999.99   \n",
       "40  157.46297    8500.0    217.96393           26.17965 -9999.99 -9999.99   \n",
       "41  151.32440    8750.0    217.05164           25.54873 -9999.99 -9999.99   \n",
       "42  145.51074    9000.0    216.18666        -9999.99000 -9999.99 -9999.99   \n",
       "43  139.91302    9250.0    215.33034        -9999.99000 -9999.99 -9999.99   \n",
       "44  134.48839    9500.0    214.46716        -9999.99000 -9999.99 -9999.99   \n",
       "45  129.23253    9750.0    213.59694        -9999.99000 -9999.99 -9999.99   \n",
       "46  124.14109   10000.0    212.71956        -9999.99000 -9999.99 -9999.99   \n",
       "\n",
       "       NaN3  \n",
       "0  -9999.99  \n",
       "1  -9999.99  \n",
       "2  -9999.99  \n",
       "3  -9999.99  \n",
       "4  -9999.99  \n",
       "5  -9999.99  \n",
       "6  -9999.99  \n",
       "7  -9999.99  \n",
       "8  -9999.99  \n",
       "9  -9999.99  \n",
       "10 -9999.99  \n",
       "11 -9999.99  \n",
       "12 -9999.99  \n",
       "13 -9999.99  \n",
       "14 -9999.99  \n",
       "15 -9999.99  \n",
       "16 -9999.99  \n",
       "17 -9999.99  \n",
       "18 -9999.99  \n",
       "19 -9999.99  \n",
       "20 -9999.99  \n",
       "21 -9999.99  \n",
       "22 -9999.99  \n",
       "23 -9999.99  \n",
       "24 -9999.99  \n",
       "25 -9999.99  \n",
       "26 -9999.99  \n",
       "27 -9999.99  \n",
       "28 -9999.99  \n",
       "29 -9999.99  \n",
       "30 -9999.99  \n",
       "31 -9999.99  \n",
       "32 -9999.99  \n",
       "33 -9999.99  \n",
       "34 -9999.99  \n",
       "35 -9999.99  \n",
       "36 -9999.99  \n",
       "37 -9999.99  \n",
       "38 -9999.99  \n",
       "39 -9999.99  \n",
       "40 -9999.99  \n",
       "41 -9999.99  \n",
       "42 -9999.99  \n",
       "43 -9999.99  \n",
       "44 -9999.99  \n",
       "45 -9999.99  \n",
       "46 -9999.99  "
      ],
      "text/html": "<div>\n<style scoped>\n    .dataframe tbody tr th:only-of-type {\n        vertical-align: middle;\n    }\n\n    .dataframe tbody tr th {\n        vertical-align: top;\n    }\n\n    .dataframe thead th {\n        text-align: right;\n    }\n</style>\n<table border=\"1\" class=\"dataframe\">\n  <thead>\n    <tr style=\"text-align: right;\">\n      <th></th>\n      <th>Press</th>\n      <th>Altitude</th>\n      <th>Temperature</th>\n      <th>Relative_humidity</th>\n      <th>NaN1</th>\n      <th>NaN2</th>\n      <th>NaN3</th>\n    </tr>\n  </thead>\n  <tbody>\n    <tr>\n      <th>0</th>\n      <td>553.58502</td>\n      <td>0.0</td>\n      <td>254.99678</td>\n      <td>77.53760</td>\n      <td>-9999.99</td>\n      <td>-9999.99</td>\n      <td>-9999.99</td>\n    </tr>\n    <tr>\n      <th>1</th>\n      <td>546.22186</td>\n      <td>100.0</td>\n      <td>254.58287</td>\n      <td>78.46770</td>\n      <td>-9999.99</td>\n      <td>-9999.99</td>\n      <td>-9999.99</td>\n    </tr>\n    <tr>\n      <th>2</th>\n      <td>538.94153</td>\n      <td>200.0</td>\n      <td>254.16812</td>\n      <td>79.39978</td>\n      <td>-9999.99</td>\n      <td>-9999.99</td>\n      <td>-9999.99</td>\n    </tr>\n    <tr>\n      <th>3</th>\n      <td>531.74274</td>\n      <td>300.0</td>\n      <td>253.75252</td>\n      <td>80.33389</td>\n      <td>-9999.99</td>\n      <td>-9999.99</td>\n      <td>-9999.99</td>\n    </tr>\n    <tr>\n      <th>4</th>\n      <td>524.62506</td>\n      <td>400.0</td>\n      <td>253.33598</td>\n      <td>81.26997</td>\n      <td>-9999.99</td>\n      <td>-9999.99</td>\n      <td>-9999.99</td>\n    </tr>\n    <tr>\n      <th>5</th>\n      <td>517.58765</td>\n      <td>500.0</td>\n      <td>252.91852</td>\n      <td>82.20806</td>\n      <td>-9999.99</td>\n      <td>-9999.99</td>\n      <td>-9999.99</td>\n    </tr>\n    <tr>\n      <th>6</th>\n      <td>510.62952</td>\n      <td>600.0</td>\n      <td>252.50023</td>\n      <td>83.14824</td>\n      <td>-9999.99</td>\n      <td>-9999.99</td>\n      <td>-9999.99</td>\n    </tr>\n    <tr>\n      <th>7</th>\n      <td>503.75031</td>\n      <td>700.0</td>\n      <td>252.08099</td>\n      <td>84.09042</td>\n      <td>-9999.99</td>\n      <td>-9999.99</td>\n      <td>-9999.99</td>\n    </tr>\n    <tr>\n      <th>8</th>\n      <td>496.96423</td>\n      <td>800.0</td>\n      <td>251.53888</td>\n      <td>83.96310</td>\n      <td>-9999.99</td>\n      <td>-9999.99</td>\n      <td>-9999.99</td>\n    </tr>\n    <tr>\n      <th>9</th>\n      <td>490.27328</td>\n      <td>900.0</td>\n      <td>250.84637</td>\n      <td>82.52438</td>\n      <td>-9999.99</td>\n      <td>-9999.99</td>\n      <td>-9999.99</td>\n    </tr>\n    <tr>\n      <th>10</th>\n      <td>483.65793</td>\n      <td>1000.0</td>\n      <td>250.15236</td>\n      <td>81.08248</td>\n      <td>-9999.99</td>\n      <td>-9999.99</td>\n      <td>-9999.99</td>\n    </tr>\n    <tr>\n      <th>11</th>\n      <td>467.44632</td>\n      <td>1250.0</td>\n      <td>248.41054</td>\n      <td>77.46384</td>\n      <td>-9999.99</td>\n      <td>-9999.99</td>\n      <td>-9999.99</td>\n    </tr>\n    <tr>\n      <th>12</th>\n      <td>451.69238</td>\n      <td>1500.0</td>\n      <td>246.65915</td>\n      <td>73.82510</td>\n      <td>-9999.99</td>\n      <td>-9999.99</td>\n      <td>-9999.99</td>\n    </tr>\n    <tr>\n      <th>13</th>\n      <td>436.38489</td>\n      <td>1750.0</td>\n      <td>244.89775</td>\n      <td>70.16577</td>\n      <td>-9999.99</td>\n      <td>-9999.99</td>\n      <td>-9999.99</td>\n    </tr>\n    <tr>\n      <th>14</th>\n      <td>421.51331</td>\n      <td>2000.0</td>\n      <td>243.12634</td>\n      <td>66.48560</td>\n      <td>-9999.99</td>\n      <td>-9999.99</td>\n      <td>-9999.99</td>\n    </tr>\n    <tr>\n      <th>15</th>\n      <td>407.06683</td>\n      <td>2250.0</td>\n      <td>241.34477</td>\n      <td>62.78415</td>\n      <td>-9999.99</td>\n      <td>-9999.99</td>\n      <td>-9999.99</td>\n    </tr>\n    <tr>\n      <th>16</th>\n      <td>392.85428</td>\n      <td>2500.0</td>\n      <td>239.37221</td>\n      <td>60.19153</td>\n      <td>-9999.99</td>\n      <td>-9999.99</td>\n      <td>-9999.99</td>\n    </tr>\n    <tr>\n      <th>17</th>\n      <td>378.88165</td>\n      <td>2750.0</td>\n      <td>237.20706</td>\n      <td>58.71732</td>\n      <td>-9999.99</td>\n      <td>-9999.99</td>\n      <td>-9999.99</td>\n    </tr>\n    <tr>\n      <th>18</th>\n      <td>365.32465</td>\n      <td>3000.0</td>\n      <td>235.02849</td>\n      <td>57.23401</td>\n      <td>-9999.99</td>\n      <td>-9999.99</td>\n      <td>-9999.99</td>\n    </tr>\n    <tr>\n      <th>19</th>\n      <td>352.17294</td>\n      <td>3250.0</td>\n      <td>232.83641</td>\n      <td>55.74149</td>\n      <td>-9999.99</td>\n      <td>-9999.99</td>\n      <td>-9999.99</td>\n    </tr>\n    <tr>\n      <th>20</th>\n      <td>339.41638</td>\n      <td>3500.0</td>\n      <td>230.63055</td>\n      <td>54.23959</td>\n      <td>-9999.99</td>\n      <td>-9999.99</td>\n      <td>-9999.99</td>\n    </tr>\n    <tr>\n      <th>21</th>\n      <td>327.04498</td>\n      <td>3750.0</td>\n      <td>228.41063</td>\n      <td>52.72811</td>\n      <td>-9999.99</td>\n      <td>-9999.99</td>\n      <td>-9999.99</td>\n    </tr>\n    <tr>\n      <th>22</th>\n      <td>315.04910</td>\n      <td>4000.0</td>\n      <td>226.17638</td>\n      <td>51.20687</td>\n      <td>-9999.99</td>\n      <td>-9999.99</td>\n      <td>-9999.99</td>\n    </tr>\n    <tr>\n      <th>23</th>\n      <td>303.41913</td>\n      <td>4250.0</td>\n      <td>223.92752</td>\n      <td>49.67571</td>\n      <td>-9999.99</td>\n      <td>-9999.99</td>\n      <td>-9999.99</td>\n    </tr>\n    <tr>\n      <th>24</th>\n      <td>292.00632</td>\n      <td>4500.0</td>\n      <td>221.98233</td>\n      <td>48.27602</td>\n      <td>-9999.99</td>\n      <td>-9999.99</td>\n      <td>-9999.99</td>\n    </tr>\n    <tr>\n      <th>25</th>\n      <td>280.89191</td>\n      <td>4750.0</td>\n      <td>220.16100</td>\n      <td>46.92772</td>\n      <td>-9999.99</td>\n      <td>-9999.99</td>\n      <td>-9999.99</td>\n    </tr>\n    <tr>\n      <th>26</th>\n      <td>270.12790</td>\n      <td>5000.0</td>\n      <td>218.32698</td>\n      <td>45.57008</td>\n      <td>-9999.99</td>\n      <td>-9999.99</td>\n      <td>-9999.99</td>\n    </tr>\n    <tr>\n      <th>27</th>\n      <td>259.74503</td>\n      <td>5250.0</td>\n      <td>218.83115</td>\n      <td>43.57453</td>\n      <td>-9999.99</td>\n      <td>-9999.99</td>\n      <td>-9999.99</td>\n    </tr>\n    <tr>\n      <th>28</th>\n      <td>249.81293</td>\n      <td>5500.0</td>\n      <td>222.65266</td>\n      <td>40.76914</td>\n      <td>-9999.99</td>\n      <td>-9999.99</td>\n      <td>-9999.99</td>\n    </tr>\n    <tr>\n      <th>29</th>\n      <td>240.60147</td>\n      <td>5750.0</td>\n      <td>222.78740</td>\n      <td>38.94541</td>\n      <td>-9999.99</td>\n      <td>-9999.99</td>\n      <td>-9999.99</td>\n    </tr>\n    <tr>\n      <th>30</th>\n      <td>231.66966</td>\n      <td>6000.0</td>\n      <td>222.92302</td>\n      <td>37.10910</td>\n      <td>-9999.99</td>\n      <td>-9999.99</td>\n      <td>-9999.99</td>\n    </tr>\n    <tr>\n      <th>31</th>\n      <td>223.01030</td>\n      <td>6250.0</td>\n      <td>223.05956</td>\n      <td>35.25993</td>\n      <td>-9999.99</td>\n      <td>-9999.99</td>\n      <td>-9999.99</td>\n    </tr>\n    <tr>\n      <th>32</th>\n      <td>214.61668</td>\n      <td>6500.0</td>\n      <td>223.19713</td>\n      <td>33.39766</td>\n      <td>-9999.99</td>\n      <td>-9999.99</td>\n      <td>-9999.99</td>\n    </tr>\n    <tr>\n      <th>33</th>\n      <td>206.48196</td>\n      <td>6750.0</td>\n      <td>223.33566</td>\n      <td>31.52198</td>\n      <td>-9999.99</td>\n      <td>-9999.99</td>\n      <td>-9999.99</td>\n    </tr>\n    <tr>\n      <th>34</th>\n      <td>198.64223</td>\n      <td>7000.0</td>\n      <td>223.29367</td>\n      <td>29.86562</td>\n      <td>-9999.99</td>\n      <td>-9999.99</td>\n      <td>-9999.99</td>\n    </tr>\n    <tr>\n      <th>35</th>\n      <td>191.23433</td>\n      <td>7250.0</td>\n      <td>222.42178</td>\n      <td>29.26262</td>\n      <td>-9999.99</td>\n      <td>-9999.99</td>\n      <td>-9999.99</td>\n    </tr>\n    <tr>\n      <th>36</th>\n      <td>184.05177</td>\n      <td>7500.0</td>\n      <td>221.54349</td>\n      <td>28.65521</td>\n      <td>-9999.99</td>\n      <td>-9999.99</td>\n      <td>-9999.99</td>\n    </tr>\n    <tr>\n      <th>37</th>\n      <td>177.08875</td>\n      <td>7750.0</td>\n      <td>220.65868</td>\n      <td>28.04331</td>\n      <td>-9999.99</td>\n      <td>-9999.99</td>\n      <td>-9999.99</td>\n    </tr>\n    <tr>\n      <th>38</th>\n      <td>170.33990</td>\n      <td>8000.0</td>\n      <td>219.76732</td>\n      <td>27.42683</td>\n      <td>-9999.99</td>\n      <td>-9999.99</td>\n      <td>-9999.99</td>\n    </tr>\n    <tr>\n      <th>39</th>\n      <td>163.79976</td>\n      <td>8250.0</td>\n      <td>218.86905</td>\n      <td>26.80564</td>\n      <td>-9999.99</td>\n      <td>-9999.99</td>\n      <td>-9999.99</td>\n    </tr>\n    <tr>\n      <th>40</th>\n      <td>157.46297</td>\n      <td>8500.0</td>\n      <td>217.96393</td>\n      <td>26.17965</td>\n      <td>-9999.99</td>\n      <td>-9999.99</td>\n      <td>-9999.99</td>\n    </tr>\n    <tr>\n      <th>41</th>\n      <td>151.32440</td>\n      <td>8750.0</td>\n      <td>217.05164</td>\n      <td>25.54873</td>\n      <td>-9999.99</td>\n      <td>-9999.99</td>\n      <td>-9999.99</td>\n    </tr>\n    <tr>\n      <th>42</th>\n      <td>145.51074</td>\n      <td>9000.0</td>\n      <td>216.18666</td>\n      <td>-9999.99000</td>\n      <td>-9999.99</td>\n      <td>-9999.99</td>\n      <td>-9999.99</td>\n    </tr>\n    <tr>\n      <th>43</th>\n      <td>139.91302</td>\n      <td>9250.0</td>\n      <td>215.33034</td>\n      <td>-9999.99000</td>\n      <td>-9999.99</td>\n      <td>-9999.99</td>\n      <td>-9999.99</td>\n    </tr>\n    <tr>\n      <th>44</th>\n      <td>134.48839</td>\n      <td>9500.0</td>\n      <td>214.46716</td>\n      <td>-9999.99000</td>\n      <td>-9999.99</td>\n      <td>-9999.99</td>\n      <td>-9999.99</td>\n    </tr>\n    <tr>\n      <th>45</th>\n      <td>129.23253</td>\n      <td>9750.0</td>\n      <td>213.59694</td>\n      <td>-9999.99000</td>\n      <td>-9999.99</td>\n      <td>-9999.99</td>\n      <td>-9999.99</td>\n    </tr>\n    <tr>\n      <th>46</th>\n      <td>124.14109</td>\n      <td>10000.0</td>\n      <td>212.71956</td>\n      <td>-9999.99000</td>\n      <td>-9999.99</td>\n      <td>-9999.99</td>\n      <td>-9999.99</td>\n    </tr>\n  </tbody>\n</table>\n</div>"
     },
     "metadata": {},
     "execution_count": 34
    }
   ],
   "source": [
    "head_col = ['Press','Altitude','Temperature','Relative_humidity','NaN1','NaN2','NaN3']\n",
    "Wyoming_data = pd.read_table(Wyoming_filepaths[0],sep='\\s+',skiprows=6,names=head_col)\n",
    "Wyoming_data['Altitude'] = Wyoming_data['Altitude']-1965\n",
    "Wyoming_data"
   ]
  },
  {
   "cell_type": "code",
   "execution_count": 37,
   "metadata": {},
   "outputs": [
    {
     "output_type": "stream",
     "name": "stdout",
     "text": [
      "47\n42\n"
     ]
    }
   ],
   "source": [
    "print(Wyoming_data.loc[Wyoming_data['Temperature']>-100].Temperature.count())\n",
    "print(Wyoming_data.loc[Wyoming_data['Relative_humidity']>-100].Relative_humidity.count())"
   ]
  }
 ]
}