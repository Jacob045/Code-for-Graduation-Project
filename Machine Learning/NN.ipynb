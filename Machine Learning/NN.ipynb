{
 "metadata": {
  "language_info": {
   "codemirror_mode": {
    "name": "ipython",
    "version": 3
   },
   "file_extension": ".py",
   "mimetype": "text/x-python",
   "name": "python",
   "nbconvert_exporter": "python",
   "pygments_lexer": "ipython3",
   "version": "3.7.10"
  },
  "orig_nbformat": 2,
  "kernelspec": {
   "name": "python3",
   "display_name": "Python 3",
   "language": "python"
  }
 },
 "nbformat": 4,
 "nbformat_minor": 2,
 "cells": [
  {
   "cell_type": "code",
   "execution_count": 1,
   "metadata": {},
   "outputs": [
    {
     "output_type": "stream",
     "name": "stdout",
     "text": [
      "2.4.1\n"
     ]
    }
   ],
   "source": [
    "import pathlib\n",
    "\n",
    "import matplotlib.pyplot as plt\n",
    "import pandas as pd\n",
    "import seaborn as sns\n",
    "\n",
    "import tensorflow as tf\n",
    "\n",
    "from tensorflow import keras\n",
    "from tensorflow.keras import layers\n",
    "\n",
    "print(tf.__version__)"
   ]
  },
  {
   "cell_type": "code",
   "execution_count": 2,
   "metadata": {},
   "outputs": [],
   "source": [
    "lv1_08 = pd.read_csv(r'I:\\Data\\Personal Data\\graduation project\\Code\\Machine Learning\\basicdata\\2009_lv1_08.csv',index_col='Unnamed: 0')\n",
    "Temperature_08 = pd.read_csv(r'I:\\Data\\Personal Data\\graduation project\\Code\\Machine Learning\\basicdata\\2009_Temperature_08.csv',index_col='Unnamed: 0')\n",
    "merge_dataset =pd.merge(lv1_08,Temperature_08,on=lv1_08.index)\n",
    "merge_dataset = merge_dataset.set_index(['key_0'])\n",
    "merge_dataset.dropna(inplace=True)"
   ]
  },
  {
   "cell_type": "code",
   "execution_count": 3,
   "metadata": {},
   "outputs": [
    {
     "output_type": "stream",
     "name": "stdout",
     "text": [
      "(249, 21) (62, 21) (249, 47) (62, 47)\n"
     ]
    }
   ],
   "source": [
    "# 乱序，分离训练数据与测试数据\n",
    "train_data = merge_dataset.sample(frac=0.8,random_state=0)\n",
    "test_data = merge_dataset.drop(train_data.index)\n",
    "# 分离标签\n",
    "train_labels = train_data.iloc[:,21:]\n",
    "test_labels = test_data.iloc[:,21:]\n",
    "train_data.drop(train_labels.columns,axis=1,inplace=True)\n",
    "test_data.drop(train_labels.columns,axis=1,inplace=True)\n",
    "\n",
    "print(train_data.shape,test_data.shape,train_labels.shape,test_labels.shape)"
   ]
  },
  {
   "cell_type": "code",
   "execution_count": 4,
   "metadata": {},
   "outputs": [],
   "source": [
    "train_stats = merge_dataset.describe()\n",
    "train_stats = train_stats.transpose()\n",
    "train_stats.drop(train_stats.iloc[20:].index,inplace=True)"
   ]
  },
  {
   "cell_type": "code",
   "execution_count": 5,
   "metadata": {},
   "outputs": [],
   "source": [
    "def norm(x):\n",
    "  return (x - train_stats['mean']) / train_stats['std']\n",
    "normed_train_data = norm(train_data)\n",
    "normed_test_data = norm(test_data)"
   ]
  },
  {
   "cell_type": "code",
   "execution_count": 6,
   "metadata": {},
   "outputs": [
    {
     "output_type": "stream",
     "name": "stdout",
     "text": [
      "Index(['10', 'Tamb(K)', 'Rh(%)', 'Pres(mb)', 'Tir(K)', 'Rain', 'Azim', 'Elev',\n       'TkBB(K)', ' 22.235', ' 23.035', ' 23.835', ' 26.235', ' 30.000',\n       ' 51.250', ' 52.280', ' 53.850', ' 54.940', ' 56.660', ' 57.290',\n       ' 58.800'],\n      dtype='object') Index([' 22.235', ' 23.035', ' 23.835', ' 26.235', ' 30.000', ' 51.250',\n       ' 52.280', ' 53.850', ' 54.940', ' 56.660', ' 57.290', ' 58.800', '10',\n       'Azim', 'Elev', 'Pres(mb)', 'Rain', 'Rh(%)', 'Tamb(K)', 'Tir(K)',\n       'TkBB(K)'],\n      dtype='object')\n"
     ]
    }
   ],
   "source": [
    "print(train_data.columns,normed_train_data.columns)"
   ]
  },
  {
   "cell_type": "code",
   "execution_count": 7,
   "metadata": {},
   "outputs": [],
   "source": [
    "def build_model():\n",
    "  model = keras.Sequential([\n",
    "    layers.Dense(64, activation='relu', input_shape=[len(train_data.keys())]),\n",
    "    layers.Dense(64, activation='relu'),\n",
    "    layers.Dense(49)\n",
    "  ])\n",
    "\n",
    "  optimizer = tf.keras.optimizers.RMSprop(0.001)\n",
    "\n",
    "  model.compile(loss='mse',\n",
    "                optimizer=optimizer,\n",
    "                metrics=['mae', 'mse'])\n",
    "  return model"
   ]
  },
  {
   "cell_type": "code",
   "execution_count": 8,
   "metadata": {},
   "outputs": [],
   "source": [
    "model = build_model()"
   ]
  },
  {
   "cell_type": "code",
   "execution_count": 9,
   "metadata": {},
   "outputs": [
    {
     "output_type": "stream",
     "name": "stdout",
     "text": [
      "Model: \"sequential\"\n_________________________________________________________________\nLayer (type)                 Output Shape              Param #   \n=================================================================\ndense (Dense)                (None, 64)                1408      \n_________________________________________________________________\ndense_1 (Dense)              (None, 64)                4160      \n_________________________________________________________________\ndense_2 (Dense)              (None, 49)                3185      \n=================================================================\nTotal params: 8,753\nTrainable params: 8,753\nNon-trainable params: 0\n_________________________________________________________________\n"
     ]
    }
   ],
   "source": [
    "model.summary()"
   ]
  }
 ]
}