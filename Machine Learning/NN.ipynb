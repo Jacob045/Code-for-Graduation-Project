{
 "metadata": {
  "language_info": {
   "codemirror_mode": {
    "name": "ipython",
    "version": 3
   },
   "file_extension": ".py",
   "mimetype": "text/x-python",
   "name": "python",
   "nbconvert_exporter": "python",
   "pygments_lexer": "ipython3",
   "version": "3.7.9-final"
  },
  "orig_nbformat": 2,
  "kernelspec": {
   "name": "python3",
   "display_name": "Python 3.7.9 64-bit ('tf': conda)",
   "metadata": {
    "interpreter": {
     "hash": "06b4f7c561f76ad499c5882876df75324df0d287869e55b80005d36e4919f42b"
    }
   }
  }
 },
 "nbformat": 4,
 "nbformat_minor": 2,
 "cells": [
  {
   "cell_type": "code",
   "execution_count": 2,
   "metadata": {},
   "outputs": [],
   "source": [
    "import pandas as pd\n",
    "import os"
   ]
  },
  {
   "cell_type": "code",
   "execution_count": 8,
   "metadata": {},
   "outputs": [
    {
     "output_type": "stream",
     "name": "stdout",
     "text": [
      "I:\\Data\\Personal Data\\graduation project\\Code\\Machine Learning\\basicdata\\lv1_08.csv\nlv1_08\nI:\\Data\\Personal Data\\graduation project\\Code\\Machine Learning\\basicdata\\lv1_20.csv\nlv1_20\nI:\\Data\\Personal Data\\graduation project\\Code\\Machine Learning\\basicdata\\Relative_humidity_08.csv\nRelative_humidity_08\nI:\\Data\\Personal Data\\graduation project\\Code\\Machine Learning\\basicdata\\Relative_humidity_20.csv\nRelative_humidity_20\nI:\\Data\\Personal Data\\graduation project\\Code\\Machine Learning\\basicdata\\statistics.csv\nstatistics\nI:\\Data\\Personal Data\\graduation project\\Code\\Machine Learning\\basicdata\\Temperature_08.csv\nTemperature_08\nI:\\Data\\Personal Data\\graduation project\\Code\\Machine Learning\\basicdata\\Temperature_20.csv\nTemperature_20\n"
     ]
    }
   ],
   "source": [
    "filepath = r'I:\\Data\\Personal Data\\graduation project\\Code\\Machine Learning\\basicdata'\n",
    "for root,dirs,files in os.walk(filepath):\n",
    "    for file in files:\n",
    "        print(os.path.join(root,file))\n",
    "        print(os.path.join(file[:-4]))"
   ]
  }
 ]
}