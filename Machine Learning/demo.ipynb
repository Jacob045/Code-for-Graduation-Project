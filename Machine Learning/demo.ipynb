{
 "metadata": {
  "language_info": {
   "codemirror_mode": {
    "name": "ipython",
    "version": 3
   },
   "file_extension": ".py",
   "mimetype": "text/x-python",
   "name": "python",
   "nbconvert_exporter": "python",
   "pygments_lexer": "ipython3",
   "version": "3.7.10"
  },
  "orig_nbformat": 2,
  "kernelspec": {
   "name": "python3710jvsc74a57bd006b4f7c561f76ad499c5882876df75324df0d287869e55b80005d36e4919f42b",
   "display_name": "Python 3.7.10 64-bit ('tf': conda)"
  }
 },
 "nbformat": 4,
 "nbformat_minor": 2,
 "cells": [
  {
   "cell_type": "code",
   "execution_count": 2,
   "metadata": {},
   "outputs": [],
   "source": [
    "import functools\n",
    "\n",
    "import numpy as np\n",
    "import tensorflow as tf\n",
    "import tensorflow_datasets as tfds"
   ]
  },
  {
   "cell_type": "code",
   "execution_count": 3,
   "metadata": {},
   "outputs": [
    {
     "output_type": "stream",
     "name": "stdout",
     "text": [
      "Downloading data from https://storage.googleapis.com/tf-datasets/titanic/train.csv\n",
      "32768/30874 [===============================] - 0s 4us/step\n",
      "Downloading data from https://storage.googleapis.com/tf-datasets/titanic/eval.csv\n",
      "16384/13049 [=====================================] - 0s 1us/step\n"
     ]
    }
   ],
   "source": [
    "TRAIN_DATA_URL = \"https://storage.googleapis.com/tf-datasets/titanic/train.csv\"\n",
    "TEST_DATA_URL = \"https://storage.googleapis.com/tf-datasets/titanic/eval.csv\"\n",
    "\n",
    "train_file_path = tf.keras.utils.get_file(\"train.csv\", TRAIN_DATA_URL)\n",
    "test_file_path = tf.keras.utils.get_file(\"eval.csv\", TEST_DATA_URL)"
   ]
  },
  {
   "cell_type": "code",
   "execution_count": 10,
   "metadata": {},
   "outputs": [
    {
     "output_type": "execute_result",
     "data": {
      "text/plain": [
       "'C:\\\\Users\\\\GSY\\\\.keras\\\\datasets\\\\train.csv'"
      ]
     },
     "metadata": {},
     "execution_count": 10
    }
   ],
   "source": [
    "train_file_path"
   ]
  },
  {
   "cell_type": "code",
   "execution_count": 7,
   "metadata": {},
   "outputs": [],
   "source": [
    "LABEL_COLUMN = 'survived'\n",
    "LABELS = [0, 1]\n",
    "def get_dataset(file_path):\n",
    "  dataset = tf.data.experimental.make_csv_dataset(\n",
    "      file_path,\n",
    "      batch_size=12, # 为了示例更容易展示，手动设置较小的值\n",
    "      label_name=LABEL_COLUMN,\n",
    "      na_value=\"?\",\n",
    "      num_epochs=1,\n",
    "      ignore_errors=True)\n",
    "  return dataset\n",
    "\n",
    "raw_train_data = get_dataset(train_file_path)\n",
    "raw_test_data = get_dataset(test_file_path)"
   ]
  },
  {
   "cell_type": "code",
   "execution_count": 9,
   "metadata": {},
   "outputs": [
    {
     "output_type": "stream",
     "name": "stdout",
     "text": [
      "EXAMPLES: \n OrderedDict([('sex', <tf.Tensor: shape=(12,), dtype=string, numpy=\narray([b'female', b'male', b'female', b'male', b'female', b'female',\n       b'female', b'male', b'male', b'female', b'male', b'male'],\n      dtype=object)>), ('age', <tf.Tensor: shape=(12,), dtype=float32, numpy=\narray([ 9. , 40.5, 24. , 30. , 30. , 28. , 30. , 47. , 24. , 18. , 39. ,\n       18. ], dtype=float32)>), ('n_siblings_spouses', <tf.Tensor: shape=(12,), dtype=int32, numpy=array([4, 0, 0, 0, 0, 0, 1, 0, 0, 0, 1, 0])>), ('parch', <tf.Tensor: shape=(12,), dtype=int32, numpy=array([2, 2, 2, 0, 0, 0, 1, 0, 1, 2, 5, 0])>), ('fare', <tf.Tensor: shape=(12,), dtype=float32, numpy=\narray([ 31.275 ,  14.5   ,  16.7   ,  13.    ,  56.9292,   7.7875,\n        24.15  ,  15.    , 247.5208,  13.    ,  31.275 ,   7.75  ],\n      dtype=float32)>), ('class', <tf.Tensor: shape=(12,), dtype=string, numpy=\narray([b'Third', b'Third', b'Third', b'Second', b'First', b'Third',\n       b'Third', b'Second', b'First', b'Second', b'Third', b'Third'],\n      dtype=object)>), ('deck', <tf.Tensor: shape=(12,), dtype=string, numpy=\narray([b'unknown', b'unknown', b'G', b'unknown', b'E', b'unknown',\n       b'unknown', b'unknown', b'B', b'unknown', b'unknown', b'unknown'],\n      dtype=object)>), ('embark_town', <tf.Tensor: shape=(12,), dtype=string, numpy=\narray([b'Southampton', b'Southampton', b'Southampton', b'Southampton',\n       b'Cherbourg', b'Queenstown', b'Southampton', b'Southampton',\n       b'Cherbourg', b'Southampton', b'Southampton', b'Southampton'],\n      dtype=object)>), ('alone', <tf.Tensor: shape=(12,), dtype=string, numpy=\narray([b'n', b'n', b'n', b'y', b'y', b'y', b'n', b'y', b'n', b'n', b'n',\n       b'y'], dtype=object)>)]) \n\nLABELS: \n tf.Tensor([0 0 1 0 1 1 0 0 0 1 0 0], shape=(12,), dtype=int32)\n"
     ]
    }
   ],
   "source": [
    "examples, labels = next(iter(raw_train_data)) # 第一个批次\n",
    "print(\"EXAMPLES: \\n\", examples, \"\\n\")\n",
    "print(\"LABELS: \\n\", labels)"
   ]
  }
 ]
}